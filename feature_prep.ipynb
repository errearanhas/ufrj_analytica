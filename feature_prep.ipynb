{
 "cells": [
  {
   "cell_type": "markdown",
   "id": "cd897cb4-3ab7-44a5-a998-7708f95c5a4d",
   "metadata": {},
   "source": [
    "1. <a href=\"#load\"> loading data </a>\n",
    "    * <a href=\"#tita\">Titanic</a>\n",
    "    * <a href=\"#adh\">Atlas do Desenvolvimento Humano (ADH)</a>\n",
    "\n",
    "\n",
    "2. <a href=\"#fpre\"> feature preprocessing and generation</a>\n",
    "\n",
    "    * <a href=\"#num\"> numerical features </a>\n",
    "        * <a href=\"#minmax\"> minmax scaler </a>\n",
    "        * <a href=\"#stds\"> standard scaler </a>\n",
    "        * <a href=\"#outl\"> outlier </a>\n",
    "        * <a href=\"#rank\"> rank transformation </a>\n",
    "        * <a href=\"#log\"> log transformation </a>\n",
    "        * <a href=\"#featgen\"> feature generation </a>\n",
    "        * <a href=\"#sumup\"> conclusions </a>\n",
    "        <br>\n",
    "        <br>\n",
    "\n",
    "    * <a href=\"#cat\"> categorical/ordinal features </a>\n",
    "        * <a href=\"#lab\"> label encoder </a>\n",
    "        * <a href=\"#freq\"> frequency encoder </a>\n",
    "        * <a href=\"#ohe\"> one hot encoder </a>\n",
    "        * <a href=\"#featgen2\"> feature generation </a>\n",
    "        * <a href=\"#sumup2\"> conclusions </a>\n",
    "        <br>\n",
    "        <br>\n",
    "    * <a href=\"#dt\"> datetime features </a>\n",
    "    * <a href=\"#coord\"> coordinates features </a>\n",
    "    * <a href=\"#miss\"> missing value </a>\n",
    "        * <a href=\"#rsn\"> replacement</a>\n",
    "        * <a href=\"#meanm\"> mean/median</a>\n",
    "        * <a href=\"#recon\"> reconstruct</a>\n",
    "<br>\n",
    "<br>\n",
    "3. <a href=\"#leak\"> Data Leakage considerations </a>"
   ]
  },
  {
   "cell_type": "code",
   "execution_count": 57,
   "id": "4aba1245-413b-4529-a6c9-83f58f35dac4",
   "metadata": {},
   "outputs": [],
   "source": [
    "import pandas as pd\n",
    "import numpy as np\n",
    "import matplotlib.pyplot as plt\n",
    "from sklearn.preprocessing import MinMaxScaler, StandardScaler, LabelEncoder, OneHotEncoder\n",
    "from scipy.stats import rankdata"
   ]
  },
  {
   "cell_type": "markdown",
   "id": "50d2edac-6b5e-4187-83c1-da93691e4c36",
   "metadata": {},
   "source": [
    "<a id=\"load\"></a>\n",
    "# 1. loading data"
   ]
  },
  {
   "cell_type": "markdown",
   "id": "aebecebe-82bb-41c9-8f81-faa772b4d0c7",
   "metadata": {},
   "source": [
    "For some examples, let's use <a href=\"https://www.kaggle.com/c/titanic\">Titanic</a> and <a href=\"https://basedosdados.org/dataset/mundo-onu-adh\"> Atlas do desenvolvimento humano<a> datasets."
   ]
  },
  {
   "cell_type": "markdown",
   "id": "eb6015bb-1f34-4075-9929-3cbd2dbfc871",
   "metadata": {},
   "source": [
    "<a id=\"tita\"></a>\n",
    "\n",
    "### <a href=\"https://www.kaggle.com/c/titanic\">Titanic</a>"
   ]
  },
  {
   "cell_type": "code",
   "execution_count": 21,
   "id": "a6c77490-f662-49b6-bd25-0ef85a9772da",
   "metadata": {},
   "outputs": [],
   "source": [
    "df = pd.read_csv(\"./dataset/titanic/train.csv\")"
   ]
  },
  {
   "cell_type": "code",
   "execution_count": 22,
   "id": "265b0143-ebd1-408f-bf4e-2406bb78eb1d",
   "metadata": {},
   "outputs": [
    {
     "data": {
      "text/plain": [
       "(891, 12)"
      ]
     },
     "execution_count": 22,
     "metadata": {},
     "output_type": "execute_result"
    }
   ],
   "source": [
    "df.shape"
   ]
  },
  {
   "cell_type": "code",
   "execution_count": 23,
   "id": "e058609b-2145-4807-9b77-5ff7b8f1d3c1",
   "metadata": {},
   "outputs": [
    {
     "data": {
      "text/html": [
       "<div>\n",
       "<style scoped>\n",
       "    .dataframe tbody tr th:only-of-type {\n",
       "        vertical-align: middle;\n",
       "    }\n",
       "\n",
       "    .dataframe tbody tr th {\n",
       "        vertical-align: top;\n",
       "    }\n",
       "\n",
       "    .dataframe thead th {\n",
       "        text-align: right;\n",
       "    }\n",
       "</style>\n",
       "<table border=\"1\" class=\"dataframe\">\n",
       "  <thead>\n",
       "    <tr style=\"text-align: right;\">\n",
       "      <th></th>\n",
       "      <th>PassengerId</th>\n",
       "      <th>Survived</th>\n",
       "      <th>Pclass</th>\n",
       "      <th>Name</th>\n",
       "      <th>Sex</th>\n",
       "      <th>Age</th>\n",
       "      <th>SibSp</th>\n",
       "      <th>Parch</th>\n",
       "      <th>Ticket</th>\n",
       "      <th>Fare</th>\n",
       "      <th>Cabin</th>\n",
       "      <th>Embarked</th>\n",
       "    </tr>\n",
       "  </thead>\n",
       "  <tbody>\n",
       "    <tr>\n",
       "      <th>0</th>\n",
       "      <td>1</td>\n",
       "      <td>0</td>\n",
       "      <td>3</td>\n",
       "      <td>Braund, Mr. Owen Harris</td>\n",
       "      <td>male</td>\n",
       "      <td>22.0</td>\n",
       "      <td>1</td>\n",
       "      <td>0</td>\n",
       "      <td>A/5 21171</td>\n",
       "      <td>7.2500</td>\n",
       "      <td>NaN</td>\n",
       "      <td>S</td>\n",
       "    </tr>\n",
       "    <tr>\n",
       "      <th>1</th>\n",
       "      <td>2</td>\n",
       "      <td>1</td>\n",
       "      <td>1</td>\n",
       "      <td>Cumings, Mrs. John Bradley (Florence Briggs Th...</td>\n",
       "      <td>female</td>\n",
       "      <td>38.0</td>\n",
       "      <td>1</td>\n",
       "      <td>0</td>\n",
       "      <td>PC 17599</td>\n",
       "      <td>71.2833</td>\n",
       "      <td>C85</td>\n",
       "      <td>C</td>\n",
       "    </tr>\n",
       "    <tr>\n",
       "      <th>2</th>\n",
       "      <td>3</td>\n",
       "      <td>1</td>\n",
       "      <td>3</td>\n",
       "      <td>Heikkinen, Miss. Laina</td>\n",
       "      <td>female</td>\n",
       "      <td>26.0</td>\n",
       "      <td>0</td>\n",
       "      <td>0</td>\n",
       "      <td>STON/O2. 3101282</td>\n",
       "      <td>7.9250</td>\n",
       "      <td>NaN</td>\n",
       "      <td>S</td>\n",
       "    </tr>\n",
       "    <tr>\n",
       "      <th>3</th>\n",
       "      <td>4</td>\n",
       "      <td>1</td>\n",
       "      <td>1</td>\n",
       "      <td>Futrelle, Mrs. Jacques Heath (Lily May Peel)</td>\n",
       "      <td>female</td>\n",
       "      <td>35.0</td>\n",
       "      <td>1</td>\n",
       "      <td>0</td>\n",
       "      <td>113803</td>\n",
       "      <td>53.1000</td>\n",
       "      <td>C123</td>\n",
       "      <td>S</td>\n",
       "    </tr>\n",
       "    <tr>\n",
       "      <th>4</th>\n",
       "      <td>5</td>\n",
       "      <td>0</td>\n",
       "      <td>3</td>\n",
       "      <td>Allen, Mr. William Henry</td>\n",
       "      <td>male</td>\n",
       "      <td>35.0</td>\n",
       "      <td>0</td>\n",
       "      <td>0</td>\n",
       "      <td>373450</td>\n",
       "      <td>8.0500</td>\n",
       "      <td>NaN</td>\n",
       "      <td>S</td>\n",
       "    </tr>\n",
       "  </tbody>\n",
       "</table>\n",
       "</div>"
      ],
      "text/plain": [
       "   PassengerId  Survived  Pclass  \\\n",
       "0            1         0       3   \n",
       "1            2         1       1   \n",
       "2            3         1       3   \n",
       "3            4         1       1   \n",
       "4            5         0       3   \n",
       "\n",
       "                                                Name     Sex   Age  SibSp  \\\n",
       "0                            Braund, Mr. Owen Harris    male  22.0      1   \n",
       "1  Cumings, Mrs. John Bradley (Florence Briggs Th...  female  38.0      1   \n",
       "2                             Heikkinen, Miss. Laina  female  26.0      0   \n",
       "3       Futrelle, Mrs. Jacques Heath (Lily May Peel)  female  35.0      1   \n",
       "4                           Allen, Mr. William Henry    male  35.0      0   \n",
       "\n",
       "   Parch            Ticket     Fare Cabin Embarked  \n",
       "0      0         A/5 21171   7.2500   NaN        S  \n",
       "1      0          PC 17599  71.2833   C85        C  \n",
       "2      0  STON/O2. 3101282   7.9250   NaN        S  \n",
       "3      0            113803  53.1000  C123        S  \n",
       "4      0            373450   8.0500   NaN        S  "
      ]
     },
     "execution_count": 23,
     "metadata": {},
     "output_type": "execute_result"
    }
   ],
   "source": [
    "df.head()"
   ]
  },
  {
   "cell_type": "code",
   "execution_count": 24,
   "id": "43f2f58e-e9a5-4d5d-b51a-ab9c5c4a15dd",
   "metadata": {},
   "outputs": [
    {
     "name": "stdout",
     "output_type": "stream",
     "text": [
      "<class 'pandas.core.frame.DataFrame'>\n",
      "RangeIndex: 891 entries, 0 to 890\n",
      "Data columns (total 12 columns):\n",
      " #   Column       Non-Null Count  Dtype  \n",
      "---  ------       --------------  -----  \n",
      " 0   PassengerId  891 non-null    int64  \n",
      " 1   Survived     891 non-null    int64  \n",
      " 2   Pclass       891 non-null    int64  \n",
      " 3   Name         891 non-null    object \n",
      " 4   Sex          891 non-null    object \n",
      " 5   Age          714 non-null    float64\n",
      " 6   SibSp        891 non-null    int64  \n",
      " 7   Parch        891 non-null    int64  \n",
      " 8   Ticket       891 non-null    object \n",
      " 9   Fare         891 non-null    float64\n",
      " 10  Cabin        204 non-null    object \n",
      " 11  Embarked     889 non-null    object \n",
      "dtypes: float64(2), int64(5), object(5)\n",
      "memory usage: 83.7+ KB\n"
     ]
    }
   ],
   "source": [
    "df.info()"
   ]
  },
  {
   "cell_type": "markdown",
   "id": "5f50564e-872b-47ff-b442-cd3c0a7c92bb",
   "metadata": {},
   "source": [
    "We can see different types of features: binary, numeric, categorical, text, ID...\n",
    "\n",
    "Why it is important to consider feature types?\n",
    "- strong connection between preprocessing and model operation\n",
    "- feature generation methods depends on feature types"
   ]
  },
  {
   "cell_type": "markdown",
   "id": "458e0e2b-9e07-45dd-9940-cae0d7ad3807",
   "metadata": {},
   "source": [
    "<a id=\"adh\"></a>\n",
    "\n",
    "### <a href=\"https://basedosdados.org/dataset/mundo-onu-adh\"> Atlas do desenvolvimento humano (ADH)<a>"
   ]
  },
  {
   "cell_type": "code",
   "execution_count": 25,
   "id": "3499ce46-6157-460b-8c9e-b490c9f67214",
   "metadata": {},
   "outputs": [],
   "source": [
    "df_bra = pd.read_csv(\"./dataset/atlasDesenvHumano/brasil.csv\")\n",
    "df_est = pd.read_csv(\"./dataset/atlasDesenvHumano/estados.csv\")\n",
    "df_mun = pd.read_csv(\"./dataset/atlasDesenvHumano/municipios.csv\")"
   ]
  },
  {
   "cell_type": "code",
   "execution_count": 26,
   "id": "8326ca3c-a265-4564-a202-6a6c0226395a",
   "metadata": {},
   "outputs": [
    {
     "name": "stdout",
     "output_type": "stream",
     "text": [
      "(3, 229)\n",
      "(81, 231)\n",
      "(16695, 230)\n"
     ]
    }
   ],
   "source": [
    "print(df_bra.shape)\n",
    "print(df_est.shape)\n",
    "print(df_mun.shape)"
   ]
  },
  {
   "cell_type": "code",
   "execution_count": 27,
   "id": "2f82a2f5-0d1e-48cb-8887-c8245257cc13",
   "metadata": {},
   "outputs": [
    {
     "data": {
      "text/html": [
       "<div>\n",
       "<style scoped>\n",
       "    .dataframe tbody tr th:only-of-type {\n",
       "        vertical-align: middle;\n",
       "    }\n",
       "\n",
       "    .dataframe tbody tr th {\n",
       "        vertical-align: top;\n",
       "    }\n",
       "\n",
       "    .dataframe thead th {\n",
       "        text-align: right;\n",
       "    }\n",
       "</style>\n",
       "<table border=\"1\" class=\"dataframe\">\n",
       "  <thead>\n",
       "    <tr style=\"text-align: right;\">\n",
       "      <th></th>\n",
       "      <th>ano</th>\n",
       "      <th>expectativa_vida</th>\n",
       "      <th>fecundidade_total</th>\n",
       "      <th>mortalidade_1</th>\n",
       "      <th>mortalidade_5</th>\n",
       "      <th>razao_dependencia</th>\n",
       "      <th>prob_sobrevivencia_40</th>\n",
       "      <th>prob_sobrevivencia_60</th>\n",
       "      <th>taxa_envelhecimento</th>\n",
       "      <th>expectativa_anos_estudo</th>\n",
       "      <th>...</th>\n",
       "      <th>pia</th>\n",
       "      <th>pia_10_14</th>\n",
       "      <th>pia_15_17</th>\n",
       "      <th>pia_18_mais</th>\n",
       "      <th>indice_escolaridade</th>\n",
       "      <th>indice_frequencia_escolar</th>\n",
       "      <th>idhm</th>\n",
       "      <th>idhm_e</th>\n",
       "      <th>idhm_l</th>\n",
       "      <th>idhm_r</th>\n",
       "    </tr>\n",
       "  </thead>\n",
       "  <tbody>\n",
       "    <tr>\n",
       "      <th>0</th>\n",
       "      <td>1991</td>\n",
       "      <td>64.73</td>\n",
       "      <td>2.88</td>\n",
       "      <td>44.68</td>\n",
       "      <td>55.74</td>\n",
       "      <td>65.43</td>\n",
       "      <td>86.90</td>\n",
       "      <td>70.93</td>\n",
       "      <td>4.83</td>\n",
       "      <td>8.16</td>\n",
       "      <td>...</td>\n",
       "      <td>NaN</td>\n",
       "      <td>NaN</td>\n",
       "      <td>NaN</td>\n",
       "      <td>NaN</td>\n",
       "      <td>0.301</td>\n",
       "      <td>0.268</td>\n",
       "      <td>0.493</td>\n",
       "      <td>0.279</td>\n",
       "      <td>0.662</td>\n",
       "      <td>0.647</td>\n",
       "    </tr>\n",
       "    <tr>\n",
       "      <th>1</th>\n",
       "      <td>2000</td>\n",
       "      <td>68.61</td>\n",
       "      <td>2.37</td>\n",
       "      <td>30.57</td>\n",
       "      <td>36.98</td>\n",
       "      <td>54.94</td>\n",
       "      <td>90.43</td>\n",
       "      <td>77.63</td>\n",
       "      <td>5.83</td>\n",
       "      <td>8.76</td>\n",
       "      <td>...</td>\n",
       "      <td>136781176.0</td>\n",
       "      <td>17224648.0</td>\n",
       "      <td>10727016.0</td>\n",
       "      <td>108829511.0</td>\n",
       "      <td>0.398</td>\n",
       "      <td>0.488</td>\n",
       "      <td>0.612</td>\n",
       "      <td>0.456</td>\n",
       "      <td>0.727</td>\n",
       "      <td>0.692</td>\n",
       "    </tr>\n",
       "    <tr>\n",
       "      <th>2</th>\n",
       "      <td>2010</td>\n",
       "      <td>73.94</td>\n",
       "      <td>1.89</td>\n",
       "      <td>16.70</td>\n",
       "      <td>18.83</td>\n",
       "      <td>45.92</td>\n",
       "      <td>94.37</td>\n",
       "      <td>84.05</td>\n",
       "      <td>7.36</td>\n",
       "      <td>9.54</td>\n",
       "      <td>...</td>\n",
       "      <td>161981299.0</td>\n",
       "      <td>17167135.0</td>\n",
       "      <td>10353865.0</td>\n",
       "      <td>134460298.0</td>\n",
       "      <td>0.549</td>\n",
       "      <td>0.686</td>\n",
       "      <td>0.727</td>\n",
       "      <td>0.637</td>\n",
       "      <td>0.816</td>\n",
       "      <td>0.739</td>\n",
       "    </tr>\n",
       "  </tbody>\n",
       "</table>\n",
       "<p>3 rows × 229 columns</p>\n",
       "</div>"
      ],
      "text/plain": [
       "    ano  expectativa_vida  fecundidade_total  mortalidade_1  mortalidade_5  \\\n",
       "0  1991             64.73               2.88          44.68          55.74   \n",
       "1  2000             68.61               2.37          30.57          36.98   \n",
       "2  2010             73.94               1.89          16.70          18.83   \n",
       "\n",
       "   razao_dependencia  prob_sobrevivencia_40  prob_sobrevivencia_60  \\\n",
       "0              65.43                  86.90                  70.93   \n",
       "1              54.94                  90.43                  77.63   \n",
       "2              45.92                  94.37                  84.05   \n",
       "\n",
       "   taxa_envelhecimento  expectativa_anos_estudo  ...          pia   pia_10_14  \\\n",
       "0                 4.83                     8.16  ...          NaN         NaN   \n",
       "1                 5.83                     8.76  ...  136781176.0  17224648.0   \n",
       "2                 7.36                     9.54  ...  161981299.0  17167135.0   \n",
       "\n",
       "    pia_15_17  pia_18_mais  indice_escolaridade  indice_frequencia_escolar  \\\n",
       "0         NaN          NaN                0.301                      0.268   \n",
       "1  10727016.0  108829511.0                0.398                      0.488   \n",
       "2  10353865.0  134460298.0                0.549                      0.686   \n",
       "\n",
       "    idhm  idhm_e  idhm_l  idhm_r  \n",
       "0  0.493   0.279   0.662   0.647  \n",
       "1  0.612   0.456   0.727   0.692  \n",
       "2  0.727   0.637   0.816   0.739  \n",
       "\n",
       "[3 rows x 229 columns]"
      ]
     },
     "execution_count": 27,
     "metadata": {},
     "output_type": "execute_result"
    }
   ],
   "source": [
    "df_bra.head()"
   ]
  },
  {
   "cell_type": "code",
   "execution_count": 28,
   "id": "4f23e68d-6a51-4775-a9cd-070cd393dfd3",
   "metadata": {},
   "outputs": [
    {
     "data": {
      "text/html": [
       "<div>\n",
       "<style scoped>\n",
       "    .dataframe tbody tr th:only-of-type {\n",
       "        vertical-align: middle;\n",
       "    }\n",
       "\n",
       "    .dataframe tbody tr th {\n",
       "        vertical-align: top;\n",
       "    }\n",
       "\n",
       "    .dataframe thead th {\n",
       "        text-align: right;\n",
       "    }\n",
       "</style>\n",
       "<table border=\"1\" class=\"dataframe\">\n",
       "  <thead>\n",
       "    <tr style=\"text-align: right;\">\n",
       "      <th></th>\n",
       "      <th>id_uf</th>\n",
       "      <th>uf</th>\n",
       "      <th>ano</th>\n",
       "      <th>expectativa_vida</th>\n",
       "      <th>fecundidade_total</th>\n",
       "      <th>mortalidade_1</th>\n",
       "      <th>mortalidade_5</th>\n",
       "      <th>razao_dependencia</th>\n",
       "      <th>prob_sobrevivencia_40</th>\n",
       "      <th>prob_sobrevivencia_60</th>\n",
       "      <th>...</th>\n",
       "      <th>pia</th>\n",
       "      <th>pia_10_14</th>\n",
       "      <th>pia_15_17</th>\n",
       "      <th>pia_18_mais</th>\n",
       "      <th>indice_escolaridade</th>\n",
       "      <th>indice_frequencia_escolar</th>\n",
       "      <th>idhm</th>\n",
       "      <th>idhm_e</th>\n",
       "      <th>idhm_l</th>\n",
       "      <th>idhm_r</th>\n",
       "    </tr>\n",
       "  </thead>\n",
       "  <tbody>\n",
       "    <tr>\n",
       "      <th>0</th>\n",
       "      <td>11</td>\n",
       "      <td>Rondônia</td>\n",
       "      <td>1991</td>\n",
       "      <td>63.11</td>\n",
       "      <td>3.55</td>\n",
       "      <td>42.41</td>\n",
       "      <td>54.06</td>\n",
       "      <td>74.36</td>\n",
       "      <td>84.85</td>\n",
       "      <td>68.68</td>\n",
       "      <td>...</td>\n",
       "      <td>NaN</td>\n",
       "      <td>NaN</td>\n",
       "      <td>NaN</td>\n",
       "      <td>NaN</td>\n",
       "      <td>0.209</td>\n",
       "      <td>0.168</td>\n",
       "      <td>0.407</td>\n",
       "      <td>0.181</td>\n",
       "      <td>0.635</td>\n",
       "      <td>0.585</td>\n",
       "    </tr>\n",
       "    <tr>\n",
       "      <th>1</th>\n",
       "      <td>11</td>\n",
       "      <td>Rondônia</td>\n",
       "      <td>2000</td>\n",
       "      <td>66.27</td>\n",
       "      <td>2.75</td>\n",
       "      <td>30.38</td>\n",
       "      <td>36.35</td>\n",
       "      <td>60.78</td>\n",
       "      <td>88.95</td>\n",
       "      <td>74.18</td>\n",
       "      <td>...</td>\n",
       "      <td>1064105.0</td>\n",
       "      <td>159442.0</td>\n",
       "      <td>95106.0</td>\n",
       "      <td>809557.0</td>\n",
       "      <td>0.301</td>\n",
       "      <td>0.369</td>\n",
       "      <td>0.537</td>\n",
       "      <td>0.345</td>\n",
       "      <td>0.688</td>\n",
       "      <td>0.654</td>\n",
       "    </tr>\n",
       "    <tr>\n",
       "      <th>2</th>\n",
       "      <td>11</td>\n",
       "      <td>Rondônia</td>\n",
       "      <td>2010</td>\n",
       "      <td>72.97</td>\n",
       "      <td>2.16</td>\n",
       "      <td>18.02</td>\n",
       "      <td>19.34</td>\n",
       "      <td>46.74</td>\n",
       "      <td>95.80</td>\n",
       "      <td>86.77</td>\n",
       "      <td>...</td>\n",
       "      <td>1294956.0</td>\n",
       "      <td>156276.0</td>\n",
       "      <td>95920.0</td>\n",
       "      <td>1042760.0</td>\n",
       "      <td>0.480</td>\n",
       "      <td>0.633</td>\n",
       "      <td>0.690</td>\n",
       "      <td>0.577</td>\n",
       "      <td>0.800</td>\n",
       "      <td>0.712</td>\n",
       "    </tr>\n",
       "    <tr>\n",
       "      <th>3</th>\n",
       "      <td>12</td>\n",
       "      <td>Acre</td>\n",
       "      <td>1991</td>\n",
       "      <td>63.72</td>\n",
       "      <td>4.86</td>\n",
       "      <td>41.85</td>\n",
       "      <td>50.63</td>\n",
       "      <td>90.47</td>\n",
       "      <td>85.84</td>\n",
       "      <td>69.37</td>\n",
       "      <td>...</td>\n",
       "      <td>NaN</td>\n",
       "      <td>NaN</td>\n",
       "      <td>NaN</td>\n",
       "      <td>NaN</td>\n",
       "      <td>0.228</td>\n",
       "      <td>0.154</td>\n",
       "      <td>0.402</td>\n",
       "      <td>0.176</td>\n",
       "      <td>0.645</td>\n",
       "      <td>0.574</td>\n",
       "    </tr>\n",
       "    <tr>\n",
       "      <th>4</th>\n",
       "      <td>12</td>\n",
       "      <td>Acre</td>\n",
       "      <td>2000</td>\n",
       "      <td>66.66</td>\n",
       "      <td>3.42</td>\n",
       "      <td>30.36</td>\n",
       "      <td>34.08</td>\n",
       "      <td>74.71</td>\n",
       "      <td>89.67</td>\n",
       "      <td>74.77</td>\n",
       "      <td>...</td>\n",
       "      <td>408802.0</td>\n",
       "      <td>67274.0</td>\n",
       "      <td>40268.0</td>\n",
       "      <td>301260.0</td>\n",
       "      <td>0.318</td>\n",
       "      <td>0.328</td>\n",
       "      <td>0.517</td>\n",
       "      <td>0.325</td>\n",
       "      <td>0.694</td>\n",
       "      <td>0.612</td>\n",
       "    </tr>\n",
       "  </tbody>\n",
       "</table>\n",
       "<p>5 rows × 231 columns</p>\n",
       "</div>"
      ],
      "text/plain": [
       "   id_uf        uf   ano  expectativa_vida  fecundidade_total  mortalidade_1  \\\n",
       "0     11  Rondônia  1991             63.11               3.55          42.41   \n",
       "1     11  Rondônia  2000             66.27               2.75          30.38   \n",
       "2     11  Rondônia  2010             72.97               2.16          18.02   \n",
       "3     12      Acre  1991             63.72               4.86          41.85   \n",
       "4     12      Acre  2000             66.66               3.42          30.36   \n",
       "\n",
       "   mortalidade_5  razao_dependencia  prob_sobrevivencia_40  \\\n",
       "0          54.06              74.36                  84.85   \n",
       "1          36.35              60.78                  88.95   \n",
       "2          19.34              46.74                  95.80   \n",
       "3          50.63              90.47                  85.84   \n",
       "4          34.08              74.71                  89.67   \n",
       "\n",
       "   prob_sobrevivencia_60  ...        pia  pia_10_14  pia_15_17  pia_18_mais  \\\n",
       "0                  68.68  ...        NaN        NaN        NaN          NaN   \n",
       "1                  74.18  ...  1064105.0   159442.0    95106.0     809557.0   \n",
       "2                  86.77  ...  1294956.0   156276.0    95920.0    1042760.0   \n",
       "3                  69.37  ...        NaN        NaN        NaN          NaN   \n",
       "4                  74.77  ...   408802.0    67274.0    40268.0     301260.0   \n",
       "\n",
       "   indice_escolaridade  indice_frequencia_escolar   idhm  idhm_e  idhm_l  \\\n",
       "0                0.209                      0.168  0.407   0.181   0.635   \n",
       "1                0.301                      0.369  0.537   0.345   0.688   \n",
       "2                0.480                      0.633  0.690   0.577   0.800   \n",
       "3                0.228                      0.154  0.402   0.176   0.645   \n",
       "4                0.318                      0.328  0.517   0.325   0.694   \n",
       "\n",
       "   idhm_r  \n",
       "0   0.585  \n",
       "1   0.654  \n",
       "2   0.712  \n",
       "3   0.574  \n",
       "4   0.612  \n",
       "\n",
       "[5 rows x 231 columns]"
      ]
     },
     "execution_count": 28,
     "metadata": {},
     "output_type": "execute_result"
    }
   ],
   "source": [
    "df_est.head()"
   ]
  },
  {
   "cell_type": "code",
   "execution_count": 29,
   "id": "127a9109-691e-403a-a8e7-36973562946a",
   "metadata": {},
   "outputs": [
    {
     "data": {
      "text/html": [
       "<div>\n",
       "<style scoped>\n",
       "    .dataframe tbody tr th:only-of-type {\n",
       "        vertical-align: middle;\n",
       "    }\n",
       "\n",
       "    .dataframe tbody tr th {\n",
       "        vertical-align: top;\n",
       "    }\n",
       "\n",
       "    .dataframe thead th {\n",
       "        text-align: right;\n",
       "    }\n",
       "</style>\n",
       "<table border=\"1\" class=\"dataframe\">\n",
       "  <thead>\n",
       "    <tr style=\"text-align: right;\">\n",
       "      <th></th>\n",
       "      <th>id_municipio</th>\n",
       "      <th>ano</th>\n",
       "      <th>expectativa_vida</th>\n",
       "      <th>fecundidade_total</th>\n",
       "      <th>mortalidade_1</th>\n",
       "      <th>mortalidade_5</th>\n",
       "      <th>razao_dependencia</th>\n",
       "      <th>prob_sobrevivencia_40</th>\n",
       "      <th>prob_sobrevivencia_60</th>\n",
       "      <th>taxa_envelhecimento</th>\n",
       "      <th>...</th>\n",
       "      <th>pia</th>\n",
       "      <th>pia_10_14</th>\n",
       "      <th>pia_15_17</th>\n",
       "      <th>pia_18_mais</th>\n",
       "      <th>indice_escolaridade</th>\n",
       "      <th>indice_frequencia_escolar</th>\n",
       "      <th>idhm</th>\n",
       "      <th>idhm_e</th>\n",
       "      <th>idhm_l</th>\n",
       "      <th>idhm_r</th>\n",
       "    </tr>\n",
       "  </thead>\n",
       "  <tbody>\n",
       "    <tr>\n",
       "      <th>0</th>\n",
       "      <td>1100015</td>\n",
       "      <td>1991</td>\n",
       "      <td>62.01</td>\n",
       "      <td>4.08</td>\n",
       "      <td>45.58</td>\n",
       "      <td>58.05</td>\n",
       "      <td>73.50</td>\n",
       "      <td>83.81</td>\n",
       "      <td>66.87</td>\n",
       "      <td>1.82</td>\n",
       "      <td>...</td>\n",
       "      <td>NaN</td>\n",
       "      <td>NaN</td>\n",
       "      <td>NaN</td>\n",
       "      <td>NaN</td>\n",
       "      <td>0.117</td>\n",
       "      <td>0.109</td>\n",
       "      <td>0.329</td>\n",
       "      <td>0.112</td>\n",
       "      <td>0.617</td>\n",
       "      <td>0.516</td>\n",
       "    </tr>\n",
       "    <tr>\n",
       "      <th>1</th>\n",
       "      <td>1100015</td>\n",
       "      <td>2000</td>\n",
       "      <td>66.90</td>\n",
       "      <td>3.11</td>\n",
       "      <td>28.36</td>\n",
       "      <td>33.96</td>\n",
       "      <td>61.65</td>\n",
       "      <td>89.61</td>\n",
       "      <td>75.40</td>\n",
       "      <td>3.35</td>\n",
       "      <td>...</td>\n",
       "      <td>20346.0</td>\n",
       "      <td>3040.0</td>\n",
       "      <td>1830.0</td>\n",
       "      <td>15476.0</td>\n",
       "      <td>0.195</td>\n",
       "      <td>0.303</td>\n",
       "      <td>0.483</td>\n",
       "      <td>0.262</td>\n",
       "      <td>0.698</td>\n",
       "      <td>0.617</td>\n",
       "    </tr>\n",
       "    <tr>\n",
       "      <th>2</th>\n",
       "      <td>1100015</td>\n",
       "      <td>2010</td>\n",
       "      <td>70.75</td>\n",
       "      <td>2.24</td>\n",
       "      <td>23.80</td>\n",
       "      <td>25.49</td>\n",
       "      <td>47.37</td>\n",
       "      <td>94.50</td>\n",
       "      <td>83.18</td>\n",
       "      <td>5.84</td>\n",
       "      <td>...</td>\n",
       "      <td>20434.0</td>\n",
       "      <td>2401.0</td>\n",
       "      <td>1602.0</td>\n",
       "      <td>16431.0</td>\n",
       "      <td>0.368</td>\n",
       "      <td>0.629</td>\n",
       "      <td>0.641</td>\n",
       "      <td>0.526</td>\n",
       "      <td>0.763</td>\n",
       "      <td>0.657</td>\n",
       "    </tr>\n",
       "    <tr>\n",
       "      <th>3</th>\n",
       "      <td>1100023</td>\n",
       "      <td>1991</td>\n",
       "      <td>66.02</td>\n",
       "      <td>3.72</td>\n",
       "      <td>32.39</td>\n",
       "      <td>41.41</td>\n",
       "      <td>69.97</td>\n",
       "      <td>88.08</td>\n",
       "      <td>74.23</td>\n",
       "      <td>1.82</td>\n",
       "      <td>...</td>\n",
       "      <td>NaN</td>\n",
       "      <td>NaN</td>\n",
       "      <td>NaN</td>\n",
       "      <td>NaN</td>\n",
       "      <td>0.200</td>\n",
       "      <td>0.199</td>\n",
       "      <td>0.432</td>\n",
       "      <td>0.199</td>\n",
       "      <td>0.684</td>\n",
       "      <td>0.593</td>\n",
       "    </tr>\n",
       "    <tr>\n",
       "      <th>4</th>\n",
       "      <td>1100023</td>\n",
       "      <td>2000</td>\n",
       "      <td>69.52</td>\n",
       "      <td>2.77</td>\n",
       "      <td>21.68</td>\n",
       "      <td>25.99</td>\n",
       "      <td>59.88</td>\n",
       "      <td>91.91</td>\n",
       "      <td>80.15</td>\n",
       "      <td>2.92</td>\n",
       "      <td>...</td>\n",
       "      <td>57064.0</td>\n",
       "      <td>8285.0</td>\n",
       "      <td>5190.0</td>\n",
       "      <td>43589.0</td>\n",
       "      <td>0.314</td>\n",
       "      <td>0.358</td>\n",
       "      <td>0.556</td>\n",
       "      <td>0.343</td>\n",
       "      <td>0.742</td>\n",
       "      <td>0.674</td>\n",
       "    </tr>\n",
       "  </tbody>\n",
       "</table>\n",
       "<p>5 rows × 230 columns</p>\n",
       "</div>"
      ],
      "text/plain": [
       "   id_municipio   ano  expectativa_vida  fecundidade_total  mortalidade_1  \\\n",
       "0       1100015  1991             62.01               4.08          45.58   \n",
       "1       1100015  2000             66.90               3.11          28.36   \n",
       "2       1100015  2010             70.75               2.24          23.80   \n",
       "3       1100023  1991             66.02               3.72          32.39   \n",
       "4       1100023  2000             69.52               2.77          21.68   \n",
       "\n",
       "   mortalidade_5  razao_dependencia  prob_sobrevivencia_40  \\\n",
       "0          58.05              73.50                  83.81   \n",
       "1          33.96              61.65                  89.61   \n",
       "2          25.49              47.37                  94.50   \n",
       "3          41.41              69.97                  88.08   \n",
       "4          25.99              59.88                  91.91   \n",
       "\n",
       "   prob_sobrevivencia_60  taxa_envelhecimento  ...      pia  pia_10_14  \\\n",
       "0                  66.87                 1.82  ...      NaN        NaN   \n",
       "1                  75.40                 3.35  ...  20346.0     3040.0   \n",
       "2                  83.18                 5.84  ...  20434.0     2401.0   \n",
       "3                  74.23                 1.82  ...      NaN        NaN   \n",
       "4                  80.15                 2.92  ...  57064.0     8285.0   \n",
       "\n",
       "   pia_15_17  pia_18_mais  indice_escolaridade  indice_frequencia_escolar  \\\n",
       "0        NaN          NaN                0.117                      0.109   \n",
       "1     1830.0      15476.0                0.195                      0.303   \n",
       "2     1602.0      16431.0                0.368                      0.629   \n",
       "3        NaN          NaN                0.200                      0.199   \n",
       "4     5190.0      43589.0                0.314                      0.358   \n",
       "\n",
       "    idhm  idhm_e  idhm_l  idhm_r  \n",
       "0  0.329   0.112   0.617   0.516  \n",
       "1  0.483   0.262   0.698   0.617  \n",
       "2  0.641   0.526   0.763   0.657  \n",
       "3  0.432   0.199   0.684   0.593  \n",
       "4  0.556   0.343   0.742   0.674  \n",
       "\n",
       "[5 rows x 230 columns]"
      ]
     },
     "execution_count": 29,
     "metadata": {},
     "output_type": "execute_result"
    }
   ],
   "source": [
    "df_mun.head()"
   ]
  },
  {
   "cell_type": "markdown",
   "id": "61889f68-a4e7-46f7-b111-d16d57316ac4",
   "metadata": {},
   "source": [
    "<a id=\"fpre\"></a>\n",
    "# 2. feature preprocessing and generation"
   ]
  },
  {
   "cell_type": "markdown",
   "id": "3ffd5a7c-c50d-4c70-beab-244445a4d715",
   "metadata": {},
   "source": [
    "each type of feature has a proper way to be preprocessed, and the way features are preprocessed depends on the model that you will use.\n",
    "\n",
    "e.g. RandomForest can deal with nonlinear relations, but linear models don't.\n",
    "\n",
    "<br>\n",
    "<br>\n",
    "\n",
    "Besides that, feature generation can also be really helpful for model results.\n",
    "\n",
    "e.g. extract week day from date, extract fractional part from prices.\n",
    "\n",
    "<br>\n",
    "<br>"
   ]
  },
  {
   "cell_type": "markdown",
   "id": "3e2f002c-f375-4a2d-9788-edd754cc49e5",
   "metadata": {},
   "source": [
    "**important note:** before applying any of the techniques presented here, it is important to explore each feature individually! \n",
    "\n",
    "Note that you don’t have to create perfect plots. In general, basic histograms and/or boxplots will be enough to identify distributions."
   ]
  },
  {
   "cell_type": "markdown",
   "id": "12f4b8cf-2779-40b8-9cdb-b6dd2ea2ec62",
   "metadata": {},
   "source": [
    "<a id=\"num\"></a>\n",
    "\n",
    "### - numerical features"
   ]
  },
  {
   "cell_type": "markdown",
   "id": "123df1ee-af69-4597-820f-3e8f2b49213d",
   "metadata": {},
   "source": [
    "* scale preprocessing\n",
    "    * tree-based models (Random Forests, Decision Tree)\n",
    "    * non-tree-based models (k nearest neighbour, linear models, neural networks)"
   ]
  },
  {
   "cell_type": "markdown",
   "id": "ea427fdc-e309-4f57-a74a-1cdfa17776de",
   "metadata": {},
   "source": [
    "<a id=\"minmax\"></a>\n",
    "\n",
    "#### 1) to [0,1]\n",
    "\n",
    "sklearn.preprocessing.MinMaxScaler\n",
    "\n",
    "X = (X - X.min()) / (X.max() - X.min())"
   ]
  },
  {
   "cell_type": "code",
   "execution_count": 30,
   "id": "a5e4c16a-39b8-407a-b139-7fb0ab863165",
   "metadata": {},
   "outputs": [
    {
     "data": {
      "text/plain": [
       "array([[<AxesSubplot:title={'center':'Age'}>,\n",
       "        <AxesSubplot:title={'center':'SibSp'}>]], dtype=object)"
      ]
     },
     "execution_count": 30,
     "metadata": {},
     "output_type": "execute_result"
    },
    {
     "data": {
      "image/png": "[encoded data removed]",
      "text/plain": [
       "<Figure size 720x288 with 2 Axes>"
      ]
     },
     "metadata": {
      "needs_background": "light"
     },
     "output_type": "display_data"
    }
   ],
   "source": [
    "# TITANIC\n",
    "df[['Age', 'SibSp']].hist(figsize=(10,4))"
   ]
  },
  {
   "cell_type": "code",
   "execution_count": 32,
   "id": "96bfc3e7-2a2b-47b3-ba14-443af6279ab5",
   "metadata": {},
   "outputs": [
    {
     "data": {
      "text/plain": [
       "array([[<AxesSubplot:title={'center':'0'}>,\n",
       "        <AxesSubplot:title={'center':'1'}>]], dtype=object)"
      ]
     },
     "execution_count": 32,
     "metadata": {},
     "output_type": "execute_result"
    },
    {
     "data": {
      "image/png": "[encoded data removed]",
      "text/plain": [
       "<Figure size 720x288 with 2 Axes>"
      ]
     },
     "metadata": {
      "needs_background": "light"
     },
     "output_type": "display_data"
    }
   ],
   "source": [
    "# TITANIC\n",
    "scaler = MinMaxScaler()\n",
    "xtrain = scaler.fit_transform(df[['Age', 'SibSp']])\n",
    "pd.DataFrame(xtrain).hist(figsize=(10,4))"
   ]
  },
  {
   "cell_type": "code",
   "execution_count": 35,
   "id": "e5ab2e83-5708-4a19-94db-b3c365f2cd25",
   "metadata": {},
   "outputs": [
    {
     "data": {
      "text/plain": [
       "array([[<AxesSubplot:title={'center':'expectativa_vida'}>,\n",
       "        <AxesSubplot:title={'center':'prob_sobrevivencia_40'}>]],\n",
       "      dtype=object)"
      ]
     },
     "execution_count": 35,
     "metadata": {},
     "output_type": "execute_result"
    },
    {
     "data": {
      "image/png": "[encoded data removed]",
      "text/plain": [
       "<Figure size 720x288 with 2 Axes>"
      ]
     },
     "metadata": {
      "needs_background": "light"
     },
     "output_type": "display_data"
    }
   ],
   "source": [
    "# ADH\n",
    "df_est[['expectativa_vida', 'prob_sobrevivencia_40']].hist(figsize=(10,4))"
   ]
  },
  {
   "cell_type": "code",
   "execution_count": 36,
   "id": "a5ad6390-28da-4dce-ba5b-efff47bd67fc",
   "metadata": {},
   "outputs": [
    {
     "data": {
      "text/plain": [
       "array([[<AxesSubplot:title={'center':'0'}>,\n",
       "        <AxesSubplot:title={'center':'1'}>]], dtype=object)"
      ]
     },
     "execution_count": 36,
     "metadata": {},
     "output_type": "execute_result"
    },
    {
     "data": {
      "image/png": "[encoded data removed]",
      "text/plain": [
       "<Figure size 720x288 with 2 Axes>"
      ]
     },
     "metadata": {
      "needs_background": "light"
     },
     "output_type": "display_data"
    }
   ],
   "source": [
    "# ADH\n",
    "scaler = MinMaxScaler()\n",
    "xtrain = scaler.fit_transform(df_est[['expectativa_vida', 'prob_sobrevivencia_40']])\n",
    "pd.DataFrame(xtrain).hist(figsize=(10,4))"
   ]
  },
  {
   "cell_type": "markdown",
   "id": "1826a76f-9266-4f40-aaa3-20b8d6dd68fb",
   "metadata": {},
   "source": [
    "<a id=\"stds\"></a>\n",
    "\n",
    "#### 2) to mean=0, std=1\n",
    "\n",
    "sklearn.preprocessing.StandardScaler\n",
    "\n",
    "X = (X - X.mean()) / X.std()"
   ]
  },
  {
   "cell_type": "code",
   "execution_count": 37,
   "id": "ca0ec9a0-a863-47cb-9e37-52db93f32755",
   "metadata": {},
   "outputs": [
    {
     "data": {
      "text/plain": [
       "array([[<AxesSubplot:title={'center':'Age'}>,\n",
       "        <AxesSubplot:title={'center':'SibSp'}>]], dtype=object)"
      ]
     },
     "execution_count": 37,
     "metadata": {},
     "output_type": "execute_result"
    },
    {
     "data": {
      "image/png": "[encoded data removed]",
      "text/plain": [
       "<Figure size 720x288 with 2 Axes>"
      ]
     },
     "metadata": {
      "needs_background": "light"
     },
     "output_type": "display_data"
    }
   ],
   "source": [
    "# TITANIC\n",
    "df[['Age', 'SibSp']].hist(figsize=(10,4))"
   ]
  },
  {
   "cell_type": "code",
   "execution_count": 40,
   "id": "68fca0ab-ade8-47cd-95ab-86208d1cc264",
   "metadata": {},
   "outputs": [
    {
     "data": {
      "text/plain": [
       "array([[<AxesSubplot:title={'center':'0'}>,\n",
       "        <AxesSubplot:title={'center':'1'}>]], dtype=object)"
      ]
     },
     "execution_count": 40,
     "metadata": {},
     "output_type": "execute_result"
    },
    {
     "data": {
      "image/png": "[encoded data removed]",
      "text/plain": [
       "<Figure size 720x288 with 2 Axes>"
      ]
     },
     "metadata": {
      "needs_background": "light"
     },
     "output_type": "display_data"
    }
   ],
   "source": [
    "# TITANIC\n",
    "scaler = StandardScaler()\n",
    "xtrain = scaler.fit_transform(df[['Age', 'SibSp']])\n",
    "pd.DataFrame(xtrain).hist(figsize=(10,4))"
   ]
  },
  {
   "cell_type": "code",
   "execution_count": 41,
   "id": "992079ba-6a4c-4468-b6ed-8b610f75cfe8",
   "metadata": {},
   "outputs": [
    {
     "data": {
      "text/plain": [
       "array([[<AxesSubplot:title={'center':'expectativa_vida'}>,\n",
       "        <AxesSubplot:title={'center':'prob_sobrevivencia_40'}>]],\n",
       "      dtype=object)"
      ]
     },
     "execution_count": 41,
     "metadata": {},
     "output_type": "execute_result"
    },
    {
     "data": {
      "image/png": "[encoded data removed]",
      "text/plain": [
       "<Figure size 720x288 with 2 Axes>"
      ]
     },
     "metadata": {
      "needs_background": "light"
     },
     "output_type": "display_data"
    }
   ],
   "source": [
    "# ADH\n",
    "df_est[['expectativa_vida', 'prob_sobrevivencia_40']].hist(figsize=(10,4))"
   ]
  },
  {
   "cell_type": "code",
   "execution_count": 43,
   "id": "f00a1fcf-3fff-45dd-ba04-3ece2641d537",
   "metadata": {},
   "outputs": [
    {
     "data": {
      "text/plain": [
       "array([[<AxesSubplot:title={'center':'0'}>,\n",
       "        <AxesSubplot:title={'center':'1'}>]], dtype=object)"
      ]
     },
     "execution_count": 43,
     "metadata": {},
     "output_type": "execute_result"
    },
    {
     "data": {
      "image/png": "[encoded data removed]",
      "text/plain": [
       "<Figure size 720x288 with 2 Axes>"
      ]
     },
     "metadata": {
      "needs_background": "light"
     },
     "output_type": "display_data"
    }
   ],
   "source": [
    "# ADH\n",
    "scaler = StandardScaler()\n",
    "xtrain = scaler.fit_transform(df_est[['expectativa_vida', 'prob_sobrevivencia_40']])\n",
    "pd.DataFrame(xtrain).hist(figsize=(10,4))"
   ]
  },
  {
   "cell_type": "markdown",
   "id": "e37f6712-c412-4157-81e5-2799648342b3",
   "metadata": {},
   "source": [
    "<a id=\"outl\"></a>\n",
    "\n",
    "#### 3) outlier identification\n",
    "\n",
    "    - winsorizing: replace outlier by min or max according to percentile\n",
    "    - trimming: eliminates outliers"
   ]
  },
  {
   "cell_type": "code",
   "execution_count": 50,
   "id": "d874b36c-cbe3-4ef2-b3ac-f2a9d8c3e2ad",
   "metadata": {},
   "outputs": [],
   "source": [
    "from scipy.stats.mstats import winsorize\n",
    "\n",
    "a = np.array([9,10,10,20,15,11,11,12,14,13,4,9,8,5,3,7,2,1,1,2,4,3,1,2,3,6,7,3,2,150])\n",
    "\n",
    "b = np.array(winsorize(a, limits=[0.1, 0.1]))"
   ]
  },
  {
   "cell_type": "code",
   "execution_count": 51,
   "id": "e6de1d85-522e-48ce-b83d-4a2652540a92",
   "metadata": {},
   "outputs": [
    {
     "name": "stdout",
     "output_type": "stream",
     "text": [
      "[  9  10  10  20  15  11  11  12  14  13   4   9   8   5   3   7   2   1\n",
      "   1   2   4   3   1   2   3   6   7   3   2 150] - 11.6\n",
      "[ 9 10 10 14 14 11 11 12 14 13  4  9  8  5  3  7  2  2  2  2  4  3  2  2\n",
      "  3  6  7  3  2 14] - 6.933333333333334\n"
     ]
    }
   ],
   "source": [
    "print(f\"{a} - {np.mean(a)}\")\n",
    "print(f\"{b} - {np.mean(b)}\")"
   ]
  },
  {
   "cell_type": "code",
   "execution_count": 52,
   "id": "74f45264-d07b-46e8-8b73-56fc6d6e2c43",
   "metadata": {},
   "outputs": [
    {
     "data": {
      "text/plain": [
       "<AxesSubplot:>"
      ]
     },
     "execution_count": 52,
     "metadata": {},
     "output_type": "execute_result"
    },
    {
     "data": {
      "image/png": "[encoded data removed]",
      "text/plain": [
       "<Figure size 432x288 with 1 Axes>"
      ]
     },
     "metadata": {
      "needs_background": "light"
     },
     "output_type": "display_data"
    }
   ],
   "source": [
    "pd.Series(a).hist()"
   ]
  },
  {
   "cell_type": "code",
   "execution_count": 53,
   "id": "512ee9a9-f25b-4ef8-9c4b-02f094cd2b65",
   "metadata": {},
   "outputs": [
    {
     "data": {
      "text/plain": [
       "<AxesSubplot:>"
      ]
     },
     "execution_count": 53,
     "metadata": {},
     "output_type": "execute_result"
    },
    {
     "data": {
      "image/png": "[encoded data removed]",
      "text/plain": [
       "<Figure size 432x288 with 1 Axes>"
      ]
     },
     "metadata": {
      "needs_background": "light"
     },
     "output_type": "display_data"
    }
   ],
   "source": [
    "pd.Series(b).hist()"
   ]
  },
  {
   "cell_type": "markdown",
   "id": "30dd611c-b64d-40d1-baf0-685aae938c0d",
   "metadata": {},
   "source": [
    "<a id=\"rank\"></a>\n",
    "\n",
    "#### 4) rank transformation\n",
    "\n",
    "    equal spaces between sorted values\n",
    "    (it moves outliers close to other objects!)\n",
    "    \n",
    "    scipy.stats.rankdata\n",
    "    \n",
    "    good for linear, knn, neural networks..."
   ]
  },
  {
   "cell_type": "code",
   "execution_count": 72,
   "id": "ff1e5938-5fbe-4047-8bb2-17434f3559ae",
   "metadata": {},
   "outputs": [
    {
     "data": {
      "text/plain": [
       "array([1., 2., 3.])"
      ]
     },
     "execution_count": 72,
     "metadata": {},
     "output_type": "execute_result"
    }
   ],
   "source": [
    "rankdata([-100,0,1e5])"
   ]
  },
  {
   "cell_type": "code",
   "execution_count": 65,
   "id": "b5d3afb0-9328-49e2-a3cf-6956d92168d9",
   "metadata": {},
   "outputs": [
    {
     "data": {
      "text/plain": [
       "array([3., 1., 2.])"
      ]
     },
     "execution_count": 65,
     "metadata": {},
     "output_type": "execute_result"
    }
   ],
   "source": [
    "rankdata([1000,1,10])"
   ]
  },
  {
   "cell_type": "code",
   "execution_count": 62,
   "id": "b175f042-7d32-425b-ab02-7bb896b8ccab",
   "metadata": {},
   "outputs": [
    {
     "data": {
      "text/html": [
       "<div>\n",
       "<style scoped>\n",
       "    .dataframe tbody tr th:only-of-type {\n",
       "        vertical-align: middle;\n",
       "    }\n",
       "\n",
       "    .dataframe tbody tr th {\n",
       "        vertical-align: top;\n",
       "    }\n",
       "\n",
       "    .dataframe thead th {\n",
       "        text-align: right;\n",
       "    }\n",
       "</style>\n",
       "<table border=\"1\" class=\"dataframe\">\n",
       "  <thead>\n",
       "    <tr style=\"text-align: right;\">\n",
       "      <th></th>\n",
       "      <th>expectativa_vida</th>\n",
       "    </tr>\n",
       "  </thead>\n",
       "  <tbody>\n",
       "    <tr>\n",
       "      <th>0</th>\n",
       "      <td>63.11</td>\n",
       "    </tr>\n",
       "    <tr>\n",
       "      <th>1</th>\n",
       "      <td>66.27</td>\n",
       "    </tr>\n",
       "    <tr>\n",
       "      <th>2</th>\n",
       "      <td>72.97</td>\n",
       "    </tr>\n",
       "    <tr>\n",
       "      <th>3</th>\n",
       "      <td>63.72</td>\n",
       "    </tr>\n",
       "    <tr>\n",
       "      <th>4</th>\n",
       "      <td>66.66</td>\n",
       "    </tr>\n",
       "    <tr>\n",
       "      <th>...</th>\n",
       "      <td>...</td>\n",
       "    </tr>\n",
       "    <tr>\n",
       "      <th>76</th>\n",
       "      <td>71.40</td>\n",
       "    </tr>\n",
       "    <tr>\n",
       "      <th>77</th>\n",
       "      <td>74.60</td>\n",
       "    </tr>\n",
       "    <tr>\n",
       "      <th>78</th>\n",
       "      <td>68.87</td>\n",
       "    </tr>\n",
       "    <tr>\n",
       "      <th>79</th>\n",
       "      <td>73.86</td>\n",
       "    </tr>\n",
       "    <tr>\n",
       "      <th>80</th>\n",
       "      <td>77.35</td>\n",
       "    </tr>\n",
       "  </tbody>\n",
       "</table>\n",
       "<p>81 rows × 1 columns</p>\n",
       "</div>"
      ],
      "text/plain": [
       "    expectativa_vida\n",
       "0              63.11\n",
       "1              66.27\n",
       "2              72.97\n",
       "3              63.72\n",
       "4              66.66\n",
       "..               ...\n",
       "76             71.40\n",
       "77             74.60\n",
       "78             68.87\n",
       "79             73.86\n",
       "80             77.35\n",
       "\n",
       "[81 rows x 1 columns]"
      ]
     },
     "execution_count": 62,
     "metadata": {},
     "output_type": "execute_result"
    }
   ],
   "source": [
    "# ADH \n",
    "df_est[['expectativa_vida']]"
   ]
  },
  {
   "cell_type": "code",
   "execution_count": 58,
   "id": "4b079f07-4fa9-400d-98b6-154c648ed50c",
   "metadata": {},
   "outputs": [
    {
     "data": {
      "text/plain": [
       "array([12. , 27. , 64. , 15. , 32. , 53. , 14. , 31. , 66. , 11. , 38. ,\n",
       "       67. , 13. , 39. , 60. , 19. , 36. , 69. ,  6. , 28. , 62. ,  1. ,\n",
       "       17. , 49. ,  8. , 22. , 52. ,  9. , 37. , 63. ,  7. , 34. , 61. ,\n",
       "        3. , 21. , 57. , 10. , 35. , 59. ,  2. , 16. , 48. ,  4. , 23. ,\n",
       "       55. ,  5. , 25. , 56. , 29. , 50. , 77. , 26. , 54. , 75.5, 30. ,\n",
       "       44. , 75.5, 41. , 58. , 79. , 24. , 45. , 73. , 47. , 68. , 80. ,\n",
       "       40. , 65. , 78. , 33. , 46. , 74. , 18. , 43. , 71. , 20. , 51. ,\n",
       "       72. , 42. , 70. , 81. ])"
      ]
     },
     "execution_count": 58,
     "metadata": {},
     "output_type": "execute_result"
    }
   ],
   "source": [
    "# ADH\n",
    "\n",
    "rankdata(df_est[['expectativa_vida']])"
   ]
  },
  {
   "cell_type": "markdown",
   "id": "004f2235-5da7-488c-b4e3-d1555722d8d3",
   "metadata": {},
   "source": [
    "<a id=\"log\"></a>\n",
    "\n",
    "#### 5) log transform\n",
    "\n",
    "drives big values closer to feature average --> values near zero becomes more distinguishable\n",
    "\n",
    "helps minimize skewness.\n",
    "\n",
    "can significantly improve neural network results!\n",
    "\n",
    "numpy log"
   ]
  },
  {
   "cell_type": "code",
   "execution_count": 133,
   "id": "531a9848-d3fd-44c7-989e-0b7188703d8c",
   "metadata": {},
   "outputs": [
    {
     "data": {
      "text/plain": [
       "array([0.        , 0.69314718, 1.09861229, 1.79175947])"
      ]
     },
     "execution_count": 133,
     "metadata": {},
     "output_type": "execute_result"
    }
   ],
   "source": [
    "np.log([1,2,3,6])"
   ]
  },
  {
   "cell_type": "markdown",
   "id": "0a03ed11-aca7-4d89-9069-a1e1f36af09d",
   "metadata": {},
   "source": [
    "<a id=\"featgen\"></a>\n",
    "\n",
    "#### 6) feature generation\n",
    "\n",
    "    Main drivers:\n",
    "        \n",
    "    * prior knowledge, logic\n",
    "    * EDA (create and check hypothesis)"
   ]
  },
  {
   "cell_type": "markdown",
   "id": "9ae8535a-135b-4b6c-bb71-9afe7d00e60c",
   "metadata": {},
   "source": [
    "prior knowledge/logic examples:\n",
    "    \n",
    "    * house prices:\n",
    "        - house area, price --> price per area\n",
    "        \n",
    "    * horizontal distance, vertical distance --> direct distance\n",
    "    \n",
    "    * price --> fractional part (gather human perception on price)"
   ]
  },
  {
   "cell_type": "markdown",
   "id": "78614c61-7817-49ea-bcbe-c34faeb70d13",
   "metadata": {},
   "source": [
    "<a id=\"sumup\"></a>\n",
    "\n",
    "#### Conclusions\n",
    "    \n",
    "    1) most often used preprocessing strategies\n",
    "        a) MinMaxScaler - to [0,1]\n",
    "        b) StandardScaler - to mean=0 std=1\n",
    "        c) rank - equal spaces between sorted values\n",
    "        d) log transform - near zero values more distinguishable\n",
    "    \n",
    "    \n",
    "    2) scaling and rank for numeric features impact\n",
    "        a) low for tree-based models\n",
    "        b) high for non-tree-based models\n",
    "\n",
    "\n",
    "    3) feature generation can make models more easy (less trees)"
   ]
  },
  {
   "cell_type": "markdown",
   "id": "ce3015fb-3ceb-436b-b345-b4ecc275d9a5",
   "metadata": {},
   "source": [
    "<a id=\"cat\"></a>\n",
    "\n",
    "### - categorical/ordinal features"
   ]
  },
  {
   "cell_type": "markdown",
   "id": "cad87489-bb04-4749-8661-cb6c6e596135",
   "metadata": {},
   "source": [
    "categorical features in Titanic dataset:\n",
    "\n",
    "    * Sex\n",
    "    * Cabin\n",
    "    * Embarked\n",
    "    \n",
    "ordinal feature (ordered categorical feature):\n",
    "\n",
    "    * Pclass"
   ]
  },
  {
   "cell_type": "markdown",
   "id": "31efb08a-6aec-49d6-819b-d1ab9eb0dea7",
   "metadata": {},
   "source": [
    "<a id=\"lab\"></a>\n",
    "#### 1) Label encoder\n",
    "\n",
    "map unique values to different numbers\n",
    "\n",
    "- very usefull for tree-based methods, as they can split features and extract more usefull values in categories on its own\n",
    "\n",
    "- non tree-based (linear, kNN, NN) can't use this feature very well\n",
    "\n",
    "<br>\n",
    "\n",
    "methods:\n",
    "\n",
    "sklearn.preprocessing.LabelEncoder --> alphabetical\n",
    "\n",
    "pandas.factorize --> respect order of appearance"
   ]
  },
  {
   "cell_type": "code",
   "execution_count": 161,
   "id": "61d3527e-cde5-434d-8354-c0113b6bafcb",
   "metadata": {},
   "outputs": [
    {
     "data": {
      "text/plain": [
       "0      S\n",
       "1      C\n",
       "2      S\n",
       "3      S\n",
       "4      S\n",
       "      ..\n",
       "886    S\n",
       "887    S\n",
       "888    S\n",
       "889    C\n",
       "890    Q\n",
       "Name: Embarked, Length: 891, dtype: object"
      ]
     },
     "execution_count": 161,
     "metadata": {},
     "output_type": "execute_result"
    }
   ],
   "source": [
    "emb = df.Embarked\n",
    "emb"
   ]
  },
  {
   "cell_type": "code",
   "execution_count": 162,
   "id": "f52eef44-a2a2-419f-8074-3636f64e538c",
   "metadata": {
    "collapsed": true,
    "jupyter": {
     "outputs_hidden": true
    },
    "tags": []
   },
   "outputs": [
    {
     "data": {
      "text/plain": [
       "array([2, 0, 2, 2, 2, 1, 2, 2, 2, 0, 2, 2, 2, 2, 2, 2, 1, 2, 2, 0, 2, 2,\n",
       "       1, 2, 2, 2, 0, 2, 1, 2, 0, 0, 1, 2, 0, 2, 0, 2, 2, 0, 2, 2, 0, 0,\n",
       "       1, 2, 1, 1, 0, 2, 2, 2, 0, 2, 0, 2, 2, 0, 2, 2, 0, 3, 2, 2, 0, 0,\n",
       "       2, 2, 2, 2, 2, 2, 2, 0, 2, 2, 2, 2, 2, 2, 2, 2, 1, 2, 2, 2, 2, 2,\n",
       "       2, 2, 2, 2, 2, 2, 2, 2, 0, 0, 2, 2, 2, 2, 2, 2, 2, 2, 2, 2, 2, 1,\n",
       "       2, 0, 2, 2, 0, 2, 1, 2, 0, 2, 2, 2, 0, 2, 2, 0, 1, 2, 0, 2, 0, 2,\n",
       "       2, 2, 2, 0, 2, 2, 2, 0, 0, 2, 2, 1, 2, 2, 2, 2, 2, 2, 2, 2, 2, 2,\n",
       "       2, 0, 1, 2, 2, 2, 2, 2, 2, 2, 2, 2, 2, 2, 2, 2, 2, 1, 2, 2, 0, 2,\n",
       "       2, 0, 2, 2, 2, 0, 2, 2, 2, 2, 1, 2, 1, 2, 2, 2, 2, 2, 0, 0, 1, 2,\n",
       "       1, 2, 2, 2, 2, 0, 2, 2, 2, 0, 1, 0, 2, 2, 2, 2, 1, 0, 2, 2, 0, 2,\n",
       "       2, 2, 2, 2, 2, 2, 2, 2, 2, 2, 2, 2, 2, 2, 2, 2, 2, 2, 2, 2, 0, 1,\n",
       "       2, 2, 0, 1, 2, 2, 2, 2, 2, 2, 2, 2, 2, 0, 0, 2, 0, 2, 1, 2, 2, 2,\n",
       "       1, 2, 2, 2, 2, 2, 2, 2, 2, 0, 1, 2, 2, 2, 1, 2, 1, 2, 2, 2, 2, 0,\n",
       "       2, 2, 2, 1, 2, 0, 0, 2, 2, 0, 0, 2, 2, 0, 1, 1, 2, 1, 2, 2, 0, 0,\n",
       "       0, 0, 0, 0, 2, 2, 2, 2, 2, 2, 2, 0, 2, 2, 1, 2, 2, 0, 2, 2, 2, 0,\n",
       "       1, 2, 2, 2, 2, 2, 2, 0, 2, 2, 2, 2, 2, 2, 2, 2, 2, 2, 2, 2, 2, 2,\n",
       "       0, 2, 0, 2, 2, 2, 1, 1, 2, 0, 0, 2, 1, 2, 0, 0, 1, 0, 0, 2, 2, 0,\n",
       "       2, 0, 2, 0, 0, 2, 0, 0, 2, 2, 2, 2, 2, 2, 1, 0, 2, 2, 2, 0, 2, 2,\n",
       "       2, 2, 2, 2, 2, 2, 2, 2, 2, 2, 2, 2, 2, 2, 2, 1, 1, 2, 2, 2, 2, 2,\n",
       "       2, 2, 0, 1, 2, 2, 2, 2, 2, 2, 1, 2, 2, 2, 2, 2, 2, 2, 2, 2, 2, 2,\n",
       "       2, 2, 2, 2, 2, 2, 2, 2, 0, 2, 2, 2, 0, 0, 2, 0, 2, 2, 2, 1, 2, 2,\n",
       "       2, 2, 2, 2, 2, 2, 1, 0, 2, 2, 2, 0, 2, 2, 2, 2, 2, 2, 2, 2, 2, 2,\n",
       "       0, 2, 2, 0, 2, 2, 2, 2, 2, 0, 2, 0, 0, 2, 2, 2, 2, 1, 1, 2, 2, 0,\n",
       "       2, 2, 2, 2, 1, 2, 2, 0, 2, 2, 2, 1, 2, 2, 2, 2, 0, 0, 0, 1, 2, 2,\n",
       "       2, 2, 2, 0, 0, 0, 2, 2, 2, 0, 2, 0, 2, 2, 2, 2, 0, 2, 2, 0, 2, 2,\n",
       "       0, 2, 1, 0, 2, 2, 0, 0, 2, 2, 1, 2, 2, 2, 2, 2, 2, 2, 0, 2, 2, 2,\n",
       "       2, 1, 2, 2, 2, 2, 0, 2, 2, 0, 2, 0, 0, 2, 2, 0, 2, 2, 2, 0, 2, 1,\n",
       "       2, 2, 2, 2, 0, 0, 2, 2, 2, 2, 0, 2, 2, 2, 0, 2, 2, 2, 1, 1, 2, 2,\n",
       "       2, 2, 2, 2, 0, 2, 0, 2, 2, 2, 1, 2, 2, 1, 2, 2, 0, 2, 2, 2, 2, 2,\n",
       "       2, 2, 2, 0, 2, 2, 0, 0, 2, 0, 2, 2, 2, 2, 2, 1, 1, 2, 2, 1, 2, 0,\n",
       "       2, 0, 2, 2, 2, 2, 2, 2, 2, 2, 2, 2, 2, 2, 2, 2, 2, 2, 2, 0, 1, 0,\n",
       "       2, 2, 2, 0, 2, 2, 2, 2, 2, 0, 2, 0, 2, 2, 2, 1, 0, 2, 0, 2, 0, 1,\n",
       "       2, 2, 2, 2, 2, 0, 0, 2, 2, 2, 2, 2, 0, 2, 1, 2, 2, 2, 2, 2, 2, 2,\n",
       "       2, 1, 2, 2, 2, 0, 2, 2, 2, 2, 2, 0, 2, 2, 2, 2, 0, 2, 2, 2, 2, 2,\n",
       "       2, 1, 2, 2, 2, 2, 2, 2, 2, 2, 2, 2, 2, 2, 0, 2, 2, 2, 0, 1, 1, 2,\n",
       "       2, 2, 2, 0, 2, 2, 1, 2, 1, 2, 0, 2, 2, 2, 2, 2, 2, 1, 2, 0, 1, 2,\n",
       "       2, 0, 2, 2, 2, 2, 0, 2, 2, 2, 2, 0, 2, 2, 2, 2, 2, 2, 2, 2, 2, 2,\n",
       "       2, 2, 2, 0, 2, 2, 2, 2, 2, 2, 2, 1, 2, 0, 1, 3, 0, 2, 0, 2, 2, 0,\n",
       "       2, 2, 2, 0, 2, 2, 0, 0, 2, 2, 2, 0, 2, 0, 2, 2, 0, 2, 2, 2, 2, 2,\n",
       "       0, 0, 2, 2, 2, 2, 2, 2, 0, 2, 2, 2, 2, 2, 2, 2, 0, 0, 2, 2, 2, 0,\n",
       "       2, 2, 2, 2, 2, 1, 2, 2, 2, 0, 1])"
      ]
     },
     "execution_count": 162,
     "metadata": {},
     "output_type": "execute_result"
    }
   ],
   "source": [
    "le = LabelEncoder()\n",
    "le.fit_transform(emb)"
   ]
  },
  {
   "cell_type": "code",
   "execution_count": 163,
   "id": "ef5054cc-9e5d-447d-bb07-3e7fc24487d8",
   "metadata": {
    "collapsed": true,
    "jupyter": {
     "outputs_hidden": true
    },
    "tags": []
   },
   "outputs": [
    {
     "data": {
      "text/plain": [
       "(array([ 0,  1,  0,  0,  0,  2,  0,  0,  0,  1,  0,  0,  0,  0,  0,  0,  2,\n",
       "         0,  0,  1,  0,  0,  2,  0,  0,  0,  1,  0,  2,  0,  1,  1,  2,  0,\n",
       "         1,  0,  1,  0,  0,  1,  0,  0,  1,  1,  2,  0,  2,  2,  1,  0,  0,\n",
       "         0,  1,  0,  1,  0,  0,  1,  0,  0,  1, -1,  0,  0,  1,  1,  0,  0,\n",
       "         0,  0,  0,  0,  0,  1,  0,  0,  0,  0,  0,  0,  0,  0,  2,  0,  0,\n",
       "         0,  0,  0,  0,  0,  0,  0,  0,  0,  0,  0,  1,  1,  0,  0,  0,  0,\n",
       "         0,  0,  0,  0,  0,  0,  0,  2,  0,  1,  0,  0,  1,  0,  2,  0,  1,\n",
       "         0,  0,  0,  1,  0,  0,  1,  2,  0,  1,  0,  1,  0,  0,  0,  0,  1,\n",
       "         0,  0,  0,  1,  1,  0,  0,  2,  0,  0,  0,  0,  0,  0,  0,  0,  0,\n",
       "         0,  0,  1,  2,  0,  0,  0,  0,  0,  0,  0,  0,  0,  0,  0,  0,  0,\n",
       "         0,  2,  0,  0,  1,  0,  0,  1,  0,  0,  0,  1,  0,  0,  0,  0,  2,\n",
       "         0,  2,  0,  0,  0,  0,  0,  1,  1,  2,  0,  2,  0,  0,  0,  0,  1,\n",
       "         0,  0,  0,  1,  2,  1,  0,  0,  0,  0,  2,  1,  0,  0,  1,  0,  0,\n",
       "         0,  0,  0,  0,  0,  0,  0,  0,  0,  0,  0,  0,  0,  0,  0,  0,  0,\n",
       "         0,  0,  1,  2,  0,  0,  1,  2,  0,  0,  0,  0,  0,  0,  0,  0,  0,\n",
       "         1,  1,  0,  1,  0,  2,  0,  0,  0,  2,  0,  0,  0,  0,  0,  0,  0,\n",
       "         0,  1,  2,  0,  0,  0,  2,  0,  2,  0,  0,  0,  0,  1,  0,  0,  0,\n",
       "         2,  0,  1,  1,  0,  0,  1,  1,  0,  0,  1,  2,  2,  0,  2,  0,  0,\n",
       "         1,  1,  1,  1,  1,  1,  0,  0,  0,  0,  0,  0,  0,  1,  0,  0,  2,\n",
       "         0,  0,  1,  0,  0,  0,  1,  2,  0,  0,  0,  0,  0,  0,  1,  0,  0,\n",
       "         0,  0,  0,  0,  0,  0,  0,  0,  0,  0,  0,  0,  1,  0,  1,  0,  0,\n",
       "         0,  2,  2,  0,  1,  1,  0,  2,  0,  1,  1,  2,  1,  1,  0,  0,  1,\n",
       "         0,  1,  0,  1,  1,  0,  1,  1,  0,  0,  0,  0,  0,  0,  2,  1,  0,\n",
       "         0,  0,  1,  0,  0,  0,  0,  0,  0,  0,  0,  0,  0,  0,  0,  0,  0,\n",
       "         0,  0,  0,  2,  2,  0,  0,  0,  0,  0,  0,  0,  1,  2,  0,  0,  0,\n",
       "         0,  0,  0,  2,  0,  0,  0,  0,  0,  0,  0,  0,  0,  0,  0,  0,  0,\n",
       "         0,  0,  0,  0,  0,  0,  1,  0,  0,  0,  1,  1,  0,  1,  0,  0,  0,\n",
       "         2,  0,  0,  0,  0,  0,  0,  0,  0,  2,  1,  0,  0,  0,  1,  0,  0,\n",
       "         0,  0,  0,  0,  0,  0,  0,  0,  1,  0,  0,  1,  0,  0,  0,  0,  0,\n",
       "         1,  0,  1,  1,  0,  0,  0,  0,  2,  2,  0,  0,  1,  0,  0,  0,  0,\n",
       "         2,  0,  0,  1,  0,  0,  0,  2,  0,  0,  0,  0,  1,  1,  1,  2,  0,\n",
       "         0,  0,  0,  0,  1,  1,  1,  0,  0,  0,  1,  0,  1,  0,  0,  0,  0,\n",
       "         1,  0,  0,  1,  0,  0,  1,  0,  2,  1,  0,  0,  1,  1,  0,  0,  2,\n",
       "         0,  0,  0,  0,  0,  0,  0,  1,  0,  0,  0,  0,  2,  0,  0,  0,  0,\n",
       "         1,  0,  0,  1,  0,  1,  1,  0,  0,  1,  0,  0,  0,  1,  0,  2,  0,\n",
       "         0,  0,  0,  1,  1,  0,  0,  0,  0,  1,  0,  0,  0,  1,  0,  0,  0,\n",
       "         2,  2,  0,  0,  0,  0,  0,  0,  1,  0,  1,  0,  0,  0,  2,  0,  0,\n",
       "         2,  0,  0,  1,  0,  0,  0,  0,  0,  0,  0,  0,  1,  0,  0,  1,  1,\n",
       "         0,  1,  0,  0,  0,  0,  0,  2,  2,  0,  0,  2,  0,  1,  0,  1,  0,\n",
       "         0,  0,  0,  0,  0,  0,  0,  0,  0,  0,  0,  0,  0,  0,  0,  0,  1,\n",
       "         2,  1,  0,  0,  0,  1,  0,  0,  0,  0,  0,  1,  0,  1,  0,  0,  0,\n",
       "         2,  1,  0,  1,  0,  1,  2,  0,  0,  0,  0,  0,  1,  1,  0,  0,  0,\n",
       "         0,  0,  1,  0,  2,  0,  0,  0,  0,  0,  0,  0,  0,  2,  0,  0,  0,\n",
       "         1,  0,  0,  0,  0,  0,  1,  0,  0,  0,  0,  1,  0,  0,  0,  0,  0,\n",
       "         0,  2,  0,  0,  0,  0,  0,  0,  0,  0,  0,  0,  0,  0,  1,  0,  0,\n",
       "         0,  1,  2,  2,  0,  0,  0,  0,  1,  0,  0,  2,  0,  2,  0,  1,  0,\n",
       "         0,  0,  0,  0,  0,  2,  0,  1,  2,  0,  0,  1,  0,  0,  0,  0,  1,\n",
       "         0,  0,  0,  0,  1,  0,  0,  0,  0,  0,  0,  0,  0,  0,  0,  0,  0,\n",
       "         0,  1,  0,  0,  0,  0,  0,  0,  0,  2,  0,  1,  2, -1,  1,  0,  1,\n",
       "         0,  0,  1,  0,  0,  0,  1,  0,  0,  1,  1,  0,  0,  0,  1,  0,  1,\n",
       "         0,  0,  1,  0,  0,  0,  0,  0,  1,  1,  0,  0,  0,  0,  0,  0,  1,\n",
       "         0,  0,  0,  0,  0,  0,  0,  1,  1,  0,  0,  0,  1,  0,  0,  0,  0,\n",
       "         0,  2,  0,  0,  0,  1,  2]),\n",
       " Index(['S', 'C', 'Q'], dtype='object'))"
      ]
     },
     "execution_count": 163,
     "metadata": {},
     "output_type": "execute_result"
    }
   ],
   "source": [
    "pd.factorize(emb)"
   ]
  },
  {
   "cell_type": "markdown",
   "id": "eaf086f5-b41f-4064-9b8e-fdf2a2878f87",
   "metadata": {},
   "source": [
    "<a id=\"freq\"></a>\n",
    "\n",
    "#### 2) Frequency encoder\n",
    "\n",
    "map unique values to their frequencies different numbers\n",
    "\n",
    "can help both tree and non-tree models, but it is specially useful for non-tree-based models: for example, if frequency of category is correlated with target value, linear models will take advantage from this dependency.\n",
    "\n",
    "For tree-based, it can help with less number of splits.\n",
    "\n",
    "DRAWBACK: more than one feature with same frequency --> indistinguishable features\n",
    "\n",
    "for this, _scipy.stats.rankdata_ to the rescue."
   ]
  },
  {
   "cell_type": "code",
   "execution_count": 170,
   "id": "08a664a2-2691-4197-963f-5767461cd0b5",
   "metadata": {},
   "outputs": [
    {
     "data": {
      "text/plain": [
       "Embarked\n",
       "C    168\n",
       "Q     77\n",
       "S    644\n",
       "dtype: int64"
      ]
     },
     "execution_count": 170,
     "metadata": {},
     "output_type": "execute_result"
    }
   ],
   "source": [
    "# count occurence oh each category\n",
    "\n",
    "enc = df.groupby('Embarked').size()\n",
    "enc"
   ]
  },
  {
   "cell_type": "code",
   "execution_count": 176,
   "id": "3aad6875-a6d0-4e6d-8e89-1ce633cc87eb",
   "metadata": {},
   "outputs": [
    {
     "data": {
      "text/plain": [
       "Embarked\n",
       "C    0.188552\n",
       "Q    0.086420\n",
       "S    0.722783\n",
       "dtype: float64"
      ]
     },
     "execution_count": 176,
     "metadata": {},
     "output_type": "execute_result"
    }
   ],
   "source": [
    "# get percentage of each category\n",
    "\n",
    "encoding = enc / len(df)\n",
    "encoding"
   ]
  },
  {
   "cell_type": "code",
   "execution_count": 177,
   "id": "4a760c4e-07b0-44b9-b911-96e5021cd988",
   "metadata": {},
   "outputs": [
    {
     "data": {
      "text/plain": [
       "0      0.722783\n",
       "1      0.188552\n",
       "2      0.722783\n",
       "3      0.722783\n",
       "4      0.722783\n",
       "         ...   \n",
       "886    0.722783\n",
       "887    0.722783\n",
       "888    0.722783\n",
       "889    0.188552\n",
       "890    0.086420\n",
       "Name: Embarked, Length: 891, dtype: float64"
      ]
     },
     "execution_count": 177,
     "metadata": {},
     "output_type": "execute_result"
    }
   ],
   "source": [
    "# map each category to its frequency\n",
    "\n",
    "df.Embarked.map(encoding)"
   ]
  },
  {
   "cell_type": "markdown",
   "id": "73ea7590-d2c2-44f1-a3da-2f2c0b3cdcd3",
   "metadata": {},
   "source": [
    "<a id=\"ohe\"></a>\n",
    "\n",
    "#### 3) One-hot encoder\n",
    "\n",
    "Generates a new binary column for each unique category.\n",
    "\n",
    "<br>\n",
    "\n",
    "methods:\n",
    "\n",
    "sklearn.preprocessing.OneHotEncoder\n",
    "\n",
    "pandas.get_dummies"
   ]
  },
  {
   "cell_type": "code",
   "execution_count": 198,
   "id": "8abdd444-8e82-405a-b224-902dc5585a23",
   "metadata": {},
   "outputs": [
    {
     "data": {
      "text/plain": [
       "0      3\n",
       "1      1\n",
       "2      3\n",
       "3      1\n",
       "4      3\n",
       "      ..\n",
       "886    2\n",
       "887    1\n",
       "888    3\n",
       "889    1\n",
       "890    3\n",
       "Name: Pclass, Length: 891, dtype: int64"
      ]
     },
     "execution_count": 198,
     "metadata": {},
     "output_type": "execute_result"
    }
   ],
   "source": [
    "clas = df['Pclass']\n",
    "clas"
   ]
  },
  {
   "cell_type": "code",
   "execution_count": 199,
   "id": "614bc339-cef8-4ec4-8ce2-573f390d6c86",
   "metadata": {},
   "outputs": [
    {
     "data": {
      "text/html": [
       "<div>\n",
       "<style scoped>\n",
       "    .dataframe tbody tr th:only-of-type {\n",
       "        vertical-align: middle;\n",
       "    }\n",
       "\n",
       "    .dataframe tbody tr th {\n",
       "        vertical-align: top;\n",
       "    }\n",
       "\n",
       "    .dataframe thead th {\n",
       "        text-align: right;\n",
       "    }\n",
       "</style>\n",
       "<table border=\"1\" class=\"dataframe\">\n",
       "  <thead>\n",
       "    <tr style=\"text-align: right;\">\n",
       "      <th></th>\n",
       "      <th>1</th>\n",
       "      <th>2</th>\n",
       "      <th>3</th>\n",
       "    </tr>\n",
       "  </thead>\n",
       "  <tbody>\n",
       "    <tr>\n",
       "      <th>0</th>\n",
       "      <td>0</td>\n",
       "      <td>0</td>\n",
       "      <td>1</td>\n",
       "    </tr>\n",
       "    <tr>\n",
       "      <th>1</th>\n",
       "      <td>1</td>\n",
       "      <td>0</td>\n",
       "      <td>0</td>\n",
       "    </tr>\n",
       "    <tr>\n",
       "      <th>2</th>\n",
       "      <td>0</td>\n",
       "      <td>0</td>\n",
       "      <td>1</td>\n",
       "    </tr>\n",
       "    <tr>\n",
       "      <th>3</th>\n",
       "      <td>1</td>\n",
       "      <td>0</td>\n",
       "      <td>0</td>\n",
       "    </tr>\n",
       "    <tr>\n",
       "      <th>4</th>\n",
       "      <td>0</td>\n",
       "      <td>0</td>\n",
       "      <td>1</td>\n",
       "    </tr>\n",
       "    <tr>\n",
       "      <th>...</th>\n",
       "      <td>...</td>\n",
       "      <td>...</td>\n",
       "      <td>...</td>\n",
       "    </tr>\n",
       "    <tr>\n",
       "      <th>886</th>\n",
       "      <td>0</td>\n",
       "      <td>1</td>\n",
       "      <td>0</td>\n",
       "    </tr>\n",
       "    <tr>\n",
       "      <th>887</th>\n",
       "      <td>1</td>\n",
       "      <td>0</td>\n",
       "      <td>0</td>\n",
       "    </tr>\n",
       "    <tr>\n",
       "      <th>888</th>\n",
       "      <td>0</td>\n",
       "      <td>0</td>\n",
       "      <td>1</td>\n",
       "    </tr>\n",
       "    <tr>\n",
       "      <th>889</th>\n",
       "      <td>1</td>\n",
       "      <td>0</td>\n",
       "      <td>0</td>\n",
       "    </tr>\n",
       "    <tr>\n",
       "      <th>890</th>\n",
       "      <td>0</td>\n",
       "      <td>0</td>\n",
       "      <td>1</td>\n",
       "    </tr>\n",
       "  </tbody>\n",
       "</table>\n",
       "<p>891 rows × 3 columns</p>\n",
       "</div>"
      ],
      "text/plain": [
       "     1  2  3\n",
       "0    0  0  1\n",
       "1    1  0  0\n",
       "2    0  0  1\n",
       "3    1  0  0\n",
       "4    0  0  1\n",
       "..  .. .. ..\n",
       "886  0  1  0\n",
       "887  1  0  0\n",
       "888  0  0  1\n",
       "889  1  0  0\n",
       "890  0  0  1\n",
       "\n",
       "[891 rows x 3 columns]"
      ]
     },
     "execution_count": 199,
     "metadata": {},
     "output_type": "execute_result"
    }
   ],
   "source": [
    "pd.get_dummies(clas)"
   ]
  },
  {
   "cell_type": "code",
   "execution_count": 211,
   "id": "99fc57f3-9acb-48d4-a2f9-be0ef3ab8cb0",
   "metadata": {},
   "outputs": [
    {
     "data": {
      "text/plain": [
       "array([[0., 0., 1.],\n",
       "       [1., 0., 0.],\n",
       "       [0., 0., 1.],\n",
       "       ...,\n",
       "       [0., 0., 1.],\n",
       "       [1., 0., 0.],\n",
       "       [0., 0., 1.]])"
      ]
     },
     "execution_count": 211,
     "metadata": {},
     "output_type": "execute_result"
    }
   ],
   "source": [
    "ohe = OneHotEncoder()\n",
    "ohe.fit_transform(df[['Pclass']]).toarray()"
   ]
  },
  {
   "cell_type": "markdown",
   "id": "b7295558-19b0-4913-9732-e92e22c1a5e3",
   "metadata": {},
   "source": [
    "<a id=\"featgen2\"></a>\n",
    "\n",
    "#### 4) Feature generation\n",
    "\n",
    "\n",
    "One of the most usefull (at least for non-tree-based models) feature generation --> feature interaction between categorical features\n",
    "\n",
    "Titanic Example: \n",
    "\n",
    "    - suppose target feature depends on PClass and sex feature\n",
    "    - so, model could adjust predictions to the combination of them\n",
    "    - strategy: CONCATENATE the features and then ONE HOT ENCODE"
   ]
  },
  {
   "cell_type": "markdown",
   "id": "28dfa149-f67b-4804-b3cb-93c04b97b7bc",
   "metadata": {},
   "source": [
    "<a id=\"sumup2\"></a>\n",
    "\n",
    "#### Conclusions\n",
    "    \n",
    "    1) ordinal features are sorted in a meaningful order\n",
    "    \n",
    "    2) label encoder maps categories to numbers\n",
    "    \n",
    "    3) frequency encoder maps categories to its frequencies\n",
    "    \n",
    "    4) label and frequency enconder are often used for tree-based models\n",
    "    \n",
    "    5) one hot encoding is often used for non-tree-based models\n",
    "    \n",
    "    6) interaction of categorical features can help non-tree-based models"
   ]
  },
  {
   "cell_type": "markdown",
   "id": "c64842fc-6988-41c4-8c72-fe8946332ecb",
   "metadata": {},
   "source": [
    "<a id=\"dt\"></a>\n",
    "### - datetime features"
   ]
  },
  {
   "cell_type": "markdown",
   "id": "14bb8133-ea79-4393-b2df-39ab7a502b92",
   "metadata": {},
   "source": [
    "usual feature generation strategies:\n",
    "\n",
    "1) to capture repetitive patterns:\n",
    "    * day number in week, month, year, second, minute, hour\n",
    "    \n",
    "    <br>\n",
    "    \n",
    "2) to capture time passed from an event (time since):\n",
    "    * number of days passed from a holiday\n",
    "    * number of days remaining for next holliday"
   ]
  },
  {
   "cell_type": "markdown",
   "id": "cdd14e7d-5900-4524-8853-d22a2b2a7558",
   "metadata": {},
   "source": [
    "<a id=\"coord\"></a>\n",
    "### - coordinates features"
   ]
  },
  {
   "cell_type": "markdown",
   "id": "f87521d2-6c1d-42c2-a525-d42ef017e76b",
   "metadata": {},
   "source": [
    "usual feature generation strategies:\n",
    "\n",
    "1) calculate distances to interesting places in the map (subway station, schools, hospital, infrastuctural buildings, tourist spot).\n",
    "\n",
    "2) aggregated statistics for surrounding area (number of schools)\n",
    "\n",
    "\n",
    "3) apply some rotation to the coordinates, in order to make easy for the model to converge"
   ]
  },
  {
   "cell_type": "markdown",
   "id": "3c596987-3aac-48e8-a743-10d5d50ace87",
   "metadata": {},
   "source": [
    "<a id=\"miss\"></a>\n",
    "\n",
    "### - missing value"
   ]
  },
  {
   "cell_type": "markdown",
   "id": "5f03726d-6e26-499d-b882-383b2283fd57",
   "metadata": {},
   "source": [
    "* missing values can be: null data, NaN, -1, empty strings, -999, etc. So, check distribution.\n",
    "\n",
    "* can contain usefull information (e.g. indication of some failure in data collection scheme)\n",
    "\n",
    "* for tree-based models, it is a bigger problem, as split boundaries get misleading."
   ]
  },
  {
   "cell_type": "markdown",
   "id": "31739442-51cf-4a2d-a3e5-424dd9248cc1",
   "metadata": {},
   "source": [
    "<a id=\"rsn\"></a>\n",
    "\n",
    "#### 1) replacement\n",
    "replace by some number (-999, -1, etc)\n",
    "\n",
    "**advantage**: possibility to put missing values in a separate category in the feature\n",
    "\n",
    "**downside**: models performances can suffer as the value can be misleading"
   ]
  },
  {
   "cell_type": "markdown",
   "id": "da199b0b-732c-4155-a248-87155d6a3ab4",
   "metadata": {},
   "source": [
    "<a id=\"meanm\"></a>\n",
    "\n",
    "#### 2) fill with mean/median\n",
    "\n",
    "usually, this method is beneficial for simple linear models and simple neural networks"
   ]
  },
  {
   "cell_type": "markdown",
   "id": "1b3a07a4-1049-43c8-b59a-706d06408788",
   "metadata": {},
   "source": [
    "<a id=\"recon\"></a>\n",
    "\n",
    "#### 3) reconstruct missing value"
   ]
  },
  {
   "cell_type": "markdown",
   "id": "0e56a0f8-a272-409a-9927-3cf06bb4ed2e",
   "metadata": {},
   "source": [
    "e.g.: if column is a time series, maybe a time series model can help imputing values, or just interpolating."
   ]
  },
  {
   "cell_type": "markdown",
   "id": "2f512642-b067-497b-9c6f-2254a5720a03",
   "metadata": {},
   "source": [
    "<a id=\"leak\"></a>\n",
    "# 3. Data Leakage considerations"
   ]
  },
  {
   "cell_type": "markdown",
   "id": "8407c0fc-adc8-4c2a-8794-a98cedc5762a",
   "metadata": {},
   "source": [
    "Note that since all the strategies derive metrics from the underlying distributions of the features, it is easy for them to leak data from the test set to the train set.\n",
    "\n",
    "\n",
    "When doing feature preprocessing, always watch out for data leakage!\n",
    "\n",
    "\n",
    "So, always split the data into train/test sets **before doing preprocessing**.\n",
    "\n",
    "\n",
    "Following this, do not use fit_transform() method on the test set. The transformers should all be fitted to the train set, and subsequent transformations should only use transform method.    "
   ]
  },
  {
   "cell_type": "code",
   "execution_count": null,
   "id": "ed1a7127-8566-4f32-9f90-aa4008caf85a",
   "metadata": {},
   "outputs": [],
   "source": []
  }
 ],
 "metadata": {
  "kernelspec": {
   "display_name": "Python 3",
   "language": "python",
   "name": "python3"
  },
  "language_info": {
   "codemirror_mode": {
    "name": "ipython",
    "version": 3
   },
   "file_extension": ".py",
   "mimetype": "text/x-python",
   "name": "python",
   "nbconvert_exporter": "python",
   "pygments_lexer": "ipython3",
   "version": "3.8.9"
  }
 },
 "nbformat": 4,
 "nbformat_minor": 5
}
