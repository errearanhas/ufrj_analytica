{
 "cells": [
  {
   "cell_type": "markdown",
   "id": "cd897cb4-3ab7-44a5-a998-7708f95c5a4d",
   "metadata": {},
   "source": [
    "1. <a href=\"#load\"> loading data </a>\n",
    "\n",
    "2. <a href=\"#fpre\"> feature preprocessing and generation</a>\n",
    "\n",
    "    * <a href=\"#num\"> numerical features </a>\n",
    "        * <a href=\"#minmax\"> minmax scaler </a>\n",
    "        * <a href=\"#stds\"> standard scaler </a>\n",
    "        * <a href=\"#outl\"> outlier </a>\n",
    "        * <a href=\"#rank\"> rank transformation </a>\n",
    "        * <a href=\"#log\"> log transformation </a>\n",
    "        * <a href=\"#featgen\"> feature generation </a>\n",
    "        * <a href=\"#sumup\"> conclusions </a>\n",
    "        <br>\n",
    "        <br>\n",
    "\n",
    "    * <a href=\"#cat\"> categorical/ordinal features </a>\n",
    "        * <a href=\"#lab\"> label encoder </a>\n",
    "        * <a href=\"#freq\"> frequency encoder </a>\n",
    "        * <a href=\"#ohe\"> one hot encoder </a>\n",
    "        * <a href=\"#featgen2\"> feature generation </a>\n",
    "        * <a href=\"#sumup2\"> conclusions </a>\n",
    "        <br>\n",
    "        <br>\n",
    "    * <a href=\"#dt\"> datetime features </a>\n",
    "    * <a href=\"#coord\"> coordinates features </a>\n",
    "    * <a href=\"#miss\"> missing value </a>"
   ]
  },
  {
   "cell_type": "code",
   "execution_count": 178,
   "id": "4aba1245-413b-4529-a6c9-83f58f35dac4",
   "metadata": {},
   "outputs": [],
   "source": [
    "import pandas as pd\n",
    "import matplotlib.pyplot as plt\n",
    "from sklearn.preprocessing import MinMaxScaler, StandardScaler, LabelEncoder, OneHotEncoder\n",
    "from scipy.stats import rankdata"
   ]
  },
  {
   "cell_type": "markdown",
   "id": "50d2edac-6b5e-4187-83c1-da93691e4c36",
   "metadata": {},
   "source": [
    "<a id=\"load\"></a>\n",
    "# 1. loading data"
   ]
  },
  {
   "cell_type": "code",
   "execution_count": 141,
   "id": "a6c77490-f662-49b6-bd25-0ef85a9772da",
   "metadata": {},
   "outputs": [],
   "source": [
    "df = pd.read_csv(\"./dataset/titanic/train.csv\")"
   ]
  },
  {
   "cell_type": "code",
   "execution_count": 139,
   "id": "265b0143-ebd1-408f-bf4e-2406bb78eb1d",
   "metadata": {},
   "outputs": [
    {
     "data": {
      "text/plain": [
       "(891, 12)"
      ]
     },
     "execution_count": 139,
     "metadata": {},
     "output_type": "execute_result"
    }
   ],
   "source": [
    "df.shape"
   ]
  },
  {
   "cell_type": "code",
   "execution_count": 13,
   "id": "e058609b-2145-4807-9b77-5ff7b8f1d3c1",
   "metadata": {},
   "outputs": [
    {
     "data": {
      "text/html": [
       "<div>\n",
       "<style scoped>\n",
       "    .dataframe tbody tr th:only-of-type {\n",
       "        vertical-align: middle;\n",
       "    }\n",
       "\n",
       "    .dataframe tbody tr th {\n",
       "        vertical-align: top;\n",
       "    }\n",
       "\n",
       "    .dataframe thead th {\n",
       "        text-align: right;\n",
       "    }\n",
       "</style>\n",
       "<table border=\"1\" class=\"dataframe\">\n",
       "  <thead>\n",
       "    <tr style=\"text-align: right;\">\n",
       "      <th></th>\n",
       "      <th>PassengerId</th>\n",
       "      <th>Survived</th>\n",
       "      <th>Pclass</th>\n",
       "      <th>Name</th>\n",
       "      <th>Sex</th>\n",
       "      <th>Age</th>\n",
       "      <th>SibSp</th>\n",
       "      <th>Parch</th>\n",
       "      <th>Ticket</th>\n",
       "      <th>Fare</th>\n",
       "      <th>Cabin</th>\n",
       "      <th>Embarked</th>\n",
       "    </tr>\n",
       "  </thead>\n",
       "  <tbody>\n",
       "    <tr>\n",
       "      <th>0</th>\n",
       "      <td>1</td>\n",
       "      <td>0</td>\n",
       "      <td>3</td>\n",
       "      <td>Braund, Mr. Owen Harris</td>\n",
       "      <td>male</td>\n",
       "      <td>22.0</td>\n",
       "      <td>1</td>\n",
       "      <td>0</td>\n",
       "      <td>A/5 21171</td>\n",
       "      <td>7.2500</td>\n",
       "      <td>NaN</td>\n",
       "      <td>S</td>\n",
       "    </tr>\n",
       "    <tr>\n",
       "      <th>1</th>\n",
       "      <td>2</td>\n",
       "      <td>1</td>\n",
       "      <td>1</td>\n",
       "      <td>Cumings, Mrs. John Bradley (Florence Briggs Th...</td>\n",
       "      <td>female</td>\n",
       "      <td>38.0</td>\n",
       "      <td>1</td>\n",
       "      <td>0</td>\n",
       "      <td>PC 17599</td>\n",
       "      <td>71.2833</td>\n",
       "      <td>C85</td>\n",
       "      <td>C</td>\n",
       "    </tr>\n",
       "    <tr>\n",
       "      <th>2</th>\n",
       "      <td>3</td>\n",
       "      <td>1</td>\n",
       "      <td>3</td>\n",
       "      <td>Heikkinen, Miss. Laina</td>\n",
       "      <td>female</td>\n",
       "      <td>26.0</td>\n",
       "      <td>0</td>\n",
       "      <td>0</td>\n",
       "      <td>STON/O2. 3101282</td>\n",
       "      <td>7.9250</td>\n",
       "      <td>NaN</td>\n",
       "      <td>S</td>\n",
       "    </tr>\n",
       "    <tr>\n",
       "      <th>3</th>\n",
       "      <td>4</td>\n",
       "      <td>1</td>\n",
       "      <td>1</td>\n",
       "      <td>Futrelle, Mrs. Jacques Heath (Lily May Peel)</td>\n",
       "      <td>female</td>\n",
       "      <td>35.0</td>\n",
       "      <td>1</td>\n",
       "      <td>0</td>\n",
       "      <td>113803</td>\n",
       "      <td>53.1000</td>\n",
       "      <td>C123</td>\n",
       "      <td>S</td>\n",
       "    </tr>\n",
       "    <tr>\n",
       "      <th>4</th>\n",
       "      <td>5</td>\n",
       "      <td>0</td>\n",
       "      <td>3</td>\n",
       "      <td>Allen, Mr. William Henry</td>\n",
       "      <td>male</td>\n",
       "      <td>35.0</td>\n",
       "      <td>0</td>\n",
       "      <td>0</td>\n",
       "      <td>373450</td>\n",
       "      <td>8.0500</td>\n",
       "      <td>NaN</td>\n",
       "      <td>S</td>\n",
       "    </tr>\n",
       "  </tbody>\n",
       "</table>\n",
       "</div>"
      ],
      "text/plain": [
       "   PassengerId  Survived  Pclass  \\\n",
       "0            1         0       3   \n",
       "1            2         1       1   \n",
       "2            3         1       3   \n",
       "3            4         1       1   \n",
       "4            5         0       3   \n",
       "\n",
       "                                                Name     Sex   Age  SibSp  \\\n",
       "0                            Braund, Mr. Owen Harris    male  22.0      1   \n",
       "1  Cumings, Mrs. John Bradley (Florence Briggs Th...  female  38.0      1   \n",
       "2                             Heikkinen, Miss. Laina  female  26.0      0   \n",
       "3       Futrelle, Mrs. Jacques Heath (Lily May Peel)  female  35.0      1   \n",
       "4                           Allen, Mr. William Henry    male  35.0      0   \n",
       "\n",
       "   Parch            Ticket     Fare Cabin Embarked  \n",
       "0      0         A/5 21171   7.2500   NaN        S  \n",
       "1      0          PC 17599  71.2833   C85        C  \n",
       "2      0  STON/O2. 3101282   7.9250   NaN        S  \n",
       "3      0            113803  53.1000  C123        S  \n",
       "4      0            373450   8.0500   NaN        S  "
      ]
     },
     "execution_count": 13,
     "metadata": {},
     "output_type": "execute_result"
    }
   ],
   "source": [
    "df.head()"
   ]
  },
  {
   "cell_type": "code",
   "execution_count": 10,
   "id": "43f2f58e-e9a5-4d5d-b51a-ab9c5c4a15dd",
   "metadata": {},
   "outputs": [
    {
     "name": "stdout",
     "output_type": "stream",
     "text": [
      "<class 'pandas.core.frame.DataFrame'>\n",
      "RangeIndex: 891 entries, 0 to 890\n",
      "Data columns (total 12 columns):\n",
      " #   Column       Non-Null Count  Dtype  \n",
      "---  ------       --------------  -----  \n",
      " 0   PassengerId  891 non-null    int64  \n",
      " 1   Survived     891 non-null    int64  \n",
      " 2   Pclass       891 non-null    int64  \n",
      " 3   Name         891 non-null    object \n",
      " 4   Sex          891 non-null    object \n",
      " 5   Age          714 non-null    float64\n",
      " 6   SibSp        891 non-null    int64  \n",
      " 7   Parch        891 non-null    int64  \n",
      " 8   Ticket       891 non-null    object \n",
      " 9   Fare         891 non-null    float64\n",
      " 10  Cabin        204 non-null    object \n",
      " 11  Embarked     889 non-null    object \n",
      "dtypes: float64(2), int64(5), object(5)\n",
      "memory usage: 83.7+ KB\n"
     ]
    }
   ],
   "source": [
    "df.info()"
   ]
  },
  {
   "cell_type": "markdown",
   "id": "5f50564e-872b-47ff-b442-cd3c0a7c92bb",
   "metadata": {},
   "source": [
    "We can see different types of features: binary, numeric, categorical, text, ID...\n",
    "\n",
    "Why it is important to consider feature types?\n",
    "- strong connection between preprocessing and model operation\n",
    "- feature generation methods depends on feature types"
   ]
  },
  {
   "cell_type": "markdown",
   "id": "61889f68-a4e7-46f7-b111-d16d57316ac4",
   "metadata": {},
   "source": [
    "<a id=\"fpre\"></a>\n",
    "# 2. feature preprocessing and generation"
   ]
  },
  {
   "cell_type": "markdown",
   "id": "3ffd5a7c-c50d-4c70-beab-244445a4d715",
   "metadata": {},
   "source": [
    "each type of feature has a proper way to be preprocessed, and the way features are preprocessed depends on the model that you will use.\n",
    "\n",
    "e.g. RandomForest can deal with nonlinear relations, but linear models don't.\n",
    "\n",
    "<br>\n",
    "<br>\n",
    "\n",
    "Besides that, feature generation can also be really helpful for model results.\n",
    "\n",
    "e.g. extract week day from date, extract fractional part from prices.\n",
    "\n",
    "<br>\n",
    "<br>"
   ]
  },
  {
   "cell_type": "markdown",
   "id": "12f4b8cf-2779-40b8-9cdb-b6dd2ea2ec62",
   "metadata": {},
   "source": [
    "<a id=\"num\"></a>\n",
    "\n",
    "### - numerical features"
   ]
  },
  {
   "cell_type": "markdown",
   "id": "123df1ee-af69-4597-820f-3e8f2b49213d",
   "metadata": {},
   "source": [
    "* scale preprocessing\n",
    "    * tree-based models (Random Forests, Decision Tree)\n",
    "    * non-tree-based models (k nearest neighbour, linear models, neural networks)"
   ]
  },
  {
   "cell_type": "markdown",
   "id": "ea427fdc-e309-4f57-a74a-1cdfa17776de",
   "metadata": {},
   "source": [
    "<a id=\"minmax\"></a>\n",
    "\n",
    "#### 1) to [0,1]\n",
    "\n",
    "sklearn.preprocessing.MinMaxScaler\n",
    "\n",
    "X = (X - X.min()) / (X.max() - X.min())"
   ]
  },
  {
   "cell_type": "code",
   "execution_count": 27,
   "id": "a5e4c16a-39b8-407a-b139-7fb0ab863165",
   "metadata": {},
   "outputs": [
    {
     "data": {
      "text/plain": [
       "array([[<AxesSubplot:title={'center':'Age'}>,\n",
       "        <AxesSubplot:title={'center':'SibSp'}>]], dtype=object)"
      ]
     },
     "execution_count": 27,
     "metadata": {},
     "output_type": "execute_result"
    },
    {
     "data": {
      "image/png": "[encoded data removed]",
      "text/plain": [
       "<Figure size 720x288 with 2 Axes>"
      ]
     },
     "metadata": {
      "needs_background": "light"
     },
     "output_type": "display_data"
    }
   ],
   "source": [
    "df[['Age', 'SibSp']].hist(figsize=(10,4))"
   ]
  },
  {
   "cell_type": "code",
   "execution_count": 34,
   "id": "96bfc3e7-2a2b-47b3-ba14-443af6279ab5",
   "metadata": {},
   "outputs": [
    {
     "data": {
      "text/plain": [
       "array([[<AxesSubplot:title={'center':'0'}>,\n",
       "        <AxesSubplot:title={'center':'1'}>]], dtype=object)"
      ]
     },
     "execution_count": 34,
     "metadata": {},
     "output_type": "execute_result"
    },
    {
     "data": {
      "image/png": "[encoded data removed]",
      "text/plain": [
       "<Figure size 720x288 with 2 Axes>"
      ]
     },
     "metadata": {
      "needs_background": "light"
     },
     "output_type": "display_data"
    }
   ],
   "source": [
    "scaler = MinMaxScaler()\n",
    "xtrain = scaler.fit_transform(df[['Age', 'SibSp']])\n",
    "pd.DataFrame(xtrain).hist(figsize=(10,4))"
   ]
  },
  {
   "cell_type": "markdown",
   "id": "1826a76f-9266-4f40-aaa3-20b8d6dd68fb",
   "metadata": {},
   "source": [
    "<a id=\"stds\"></a>\n",
    "\n",
    "#### 2) to mean=0, std=1\n",
    "\n",
    "sklearn.preprocessing.StandardScaler\n",
    "\n",
    "X = (X - X.mean()) / X.std()"
   ]
  },
  {
   "cell_type": "code",
   "execution_count": 39,
   "id": "ca0ec9a0-a863-47cb-9e37-52db93f32755",
   "metadata": {},
   "outputs": [
    {
     "data": {
      "text/plain": [
       "array([[<AxesSubplot:title={'center':'Age'}>,\n",
       "        <AxesSubplot:title={'center':'SibSp'}>]], dtype=object)"
      ]
     },
     "execution_count": 39,
     "metadata": {},
     "output_type": "execute_result"
    },
    {
     "data": {
      "image/png": "[encoded data removed]",
      "text/plain": [
       "<Figure size 720x288 with 2 Axes>"
      ]
     },
     "metadata": {
      "needs_background": "light"
     },
     "output_type": "display_data"
    }
   ],
   "source": [
    "df[['Age', 'SibSp']].hist(figsize=(10,4))"
   ]
  },
  {
   "cell_type": "code",
   "execution_count": 38,
   "id": "68fca0ab-ade8-47cd-95ab-86208d1cc264",
   "metadata": {},
   "outputs": [
    {
     "data": {
      "text/plain": [
       "array([[<AxesSubplot:title={'center':'0'}>,\n",
       "        <AxesSubplot:title={'center':'1'}>]], dtype=object)"
      ]
     },
     "execution_count": 38,
     "metadata": {},
     "output_type": "execute_result"
    },
    {
     "data": {
      "image/png": "[encoded data removed]",
      "text/plain": [
       "<Figure size 720x288 with 2 Axes>"
      ]
     },
     "metadata": {
      "needs_background": "light"
     },
     "output_type": "display_data"
    }
   ],
   "source": [
    "scaler = StandardScaler()\n",
    "xtrain = scaler.fit_transform(df[['Age', 'SibSp']])\n",
    "pd.DataFrame(xtrain).hist(figsize=(10,4))"
   ]
  },
  {
   "cell_type": "markdown",
   "id": "e37f6712-c412-4157-81e5-2799648342b3",
   "metadata": {},
   "source": [
    "<a id=\"outl\"></a>\n",
    "\n",
    "#### 3) outlier identification\n",
    "\n",
    "    - winsorizing: replace outlier by min or max according to percentile\n",
    "    - trimming: eliminates outliers"
   ]
  },
  {
   "cell_type": "code",
   "execution_count": 123,
   "id": "d874b36c-cbe3-4ef2-b3ac-f2a9d8c3e2ad",
   "metadata": {},
   "outputs": [],
   "source": [
    "from scipy.stats.mstats import winsorize\n",
    "\n",
    "a = np.array([10,10,20,15,11,11,12,14,13,4,9,8,5,3,7,2,1,1,2,4,3,1,2,3,6,7,3,2,150])\n",
    "\n",
    "b = np.array(winsorize(a, limits=[0.1, 0.1]))"
   ]
  },
  {
   "cell_type": "code",
   "execution_count": 124,
   "id": "e6de1d85-522e-48ce-b83d-4a2652540a92",
   "metadata": {},
   "outputs": [
    {
     "name": "stdout",
     "output_type": "stream",
     "text": [
      "[ 10  10  20  15  11  11  12  14  13   4   9   8   5   3   7   2   1   1\n",
      "   2   4   3   1   2   3   6   7   3   2 150] - 11.689655172413794\n",
      "[10 10 15 15 11 11 12 14 13  4  9  8  5  3  7  2  1  1  2  4  3  1  2  3\n",
      "  6  7  3  2 15] - 6.862068965517241\n"
     ]
    }
   ],
   "source": [
    "print(f\"{a} - {np.mean(a)}\")\n",
    "print(f\"{b} - {np.mean(b)}\")"
   ]
  },
  {
   "cell_type": "code",
   "execution_count": 125,
   "id": "74f45264-d07b-46e8-8b73-56fc6d6e2c43",
   "metadata": {},
   "outputs": [
    {
     "data": {
      "text/plain": [
       "<AxesSubplot:>"
      ]
     },
     "execution_count": 125,
     "metadata": {},
     "output_type": "execute_result"
    },
    {
     "data": {
      "image/png": "[encoded data removed]",
      "text/plain": [
       "<Figure size 432x288 with 1 Axes>"
      ]
     },
     "metadata": {
      "needs_background": "light"
     },
     "output_type": "display_data"
    }
   ],
   "source": [
    "pd.Series(a).hist()"
   ]
  },
  {
   "cell_type": "code",
   "execution_count": 126,
   "id": "512ee9a9-f25b-4ef8-9c4b-02f094cd2b65",
   "metadata": {},
   "outputs": [
    {
     "data": {
      "text/plain": [
       "<AxesSubplot:>"
      ]
     },
     "execution_count": 126,
     "metadata": {},
     "output_type": "execute_result"
    },
    {
     "data": {
      "image/png": "[encoded data removed]",
      "text/plain": [
       "<Figure size 432x288 with 1 Axes>"
      ]
     },
     "metadata": {
      "needs_background": "light"
     },
     "output_type": "display_data"
    }
   ],
   "source": [
    "pd.Series(b).hist()"
   ]
  },
  {
   "cell_type": "markdown",
   "id": "30dd611c-b64d-40d1-baf0-685aae938c0d",
   "metadata": {},
   "source": [
    "<a id=\"rank\"></a>\n",
    "\n",
    "#### 4) rank transformation\n",
    "\n",
    "    spaces between sorted values equal\n",
    "    (it moves outliers close to other objects!)\n",
    "    \n",
    "    scipy.stats.rankdata\n",
    "    \n",
    "    good for linear, knn, neural networks..."
   ]
  },
  {
   "cell_type": "code",
   "execution_count": 129,
   "id": "ff1e5938-5fbe-4047-8bb2-17434f3559ae",
   "metadata": {},
   "outputs": [
    {
     "data": {
      "text/plain": [
       "array([1., 2., 3.])"
      ]
     },
     "execution_count": 129,
     "metadata": {},
     "output_type": "execute_result"
    }
   ],
   "source": [
    "rankdata([-100,0,1e5])"
   ]
  },
  {
   "cell_type": "code",
   "execution_count": 130,
   "id": "b5d3afb0-9328-49e2-a3cf-6956d92168d9",
   "metadata": {},
   "outputs": [
    {
     "data": {
      "text/plain": [
       "array([3., 1., 2.])"
      ]
     },
     "execution_count": 130,
     "metadata": {},
     "output_type": "execute_result"
    }
   ],
   "source": [
    "rankdata([1000,1,10])"
   ]
  },
  {
   "cell_type": "markdown",
   "id": "004f2235-5da7-488c-b4e3-d1555722d8d3",
   "metadata": {},
   "source": [
    "<a id=\"log\"></a>\n",
    "\n",
    "#### 5) log transform\n",
    "\n",
    "drives big values closer to feature average --> values near zero becomes more distinguishable\n",
    "\n",
    "can significantly improve neural network results!\n",
    "\n",
    "numpy log"
   ]
  },
  {
   "cell_type": "code",
   "execution_count": 133,
   "id": "531a9848-d3fd-44c7-989e-0b7188703d8c",
   "metadata": {},
   "outputs": [
    {
     "data": {
      "text/plain": [
       "array([0.        , 0.69314718, 1.09861229, 1.79175947])"
      ]
     },
     "execution_count": 133,
     "metadata": {},
     "output_type": "execute_result"
    }
   ],
   "source": [
    "np.log([1,2,3,6])"
   ]
  },
  {
   "cell_type": "markdown",
   "id": "0a03ed11-aca7-4d89-9069-a1e1f36af09d",
   "metadata": {},
   "source": [
    "<a id=\"featgen\"></a>\n",
    "\n",
    "#### 6) feature generation\n",
    "\n",
    "    Main drivers:\n",
    "        \n",
    "    * prior knowledge, logic\n",
    "    * EDA (create and check hypothesis)"
   ]
  },
  {
   "cell_type": "markdown",
   "id": "9ae8535a-135b-4b6c-bb71-9afe7d00e60c",
   "metadata": {},
   "source": [
    "prior knowledge/logic examples:\n",
    "    \n",
    "    * house prices:\n",
    "        - house area, price --> price per area\n",
    "        \n",
    "    * horizontal distance, vertical distance --> direct distance\n",
    "    \n",
    "    * price --> fractional part (gather human perception on price)"
   ]
  },
  {
   "cell_type": "markdown",
   "id": "78614c61-7817-49ea-bcbe-c34faeb70d13",
   "metadata": {},
   "source": [
    "<a id=\"sumup\"></a>\n",
    "\n",
    "#### Conclusions\n",
    "    \n",
    "    1) most often used preprocessing strategies\n",
    "        a) MinMaxScaler - to [0,1]\n",
    "        b) StandardScaler - to mean=0 std=1\n",
    "        c) rank - equal spaces between sorted values\n",
    "        d) log transform - near zero values more distinguishable\n",
    "    \n",
    "    \n",
    "    2) scaling and rank for numeric features impact\n",
    "        a) low for tree-based models\n",
    "        b) high for non-tree-based models\n",
    "\n",
    "\n",
    "    3) feature generation can make models more easy (less trees)"
   ]
  },
  {
   "cell_type": "markdown",
   "id": "ce3015fb-3ceb-436b-b345-b4ecc275d9a5",
   "metadata": {},
   "source": [
    "<a id=\"cat\"></a>\n",
    "\n",
    "### - categorical/ordinal features"
   ]
  },
  {
   "cell_type": "markdown",
   "id": "cad87489-bb04-4749-8661-cb6c6e596135",
   "metadata": {},
   "source": [
    "categorical features in Titanic dataset:\n",
    "\n",
    "    * Sex\n",
    "    * Cabin\n",
    "    * Embarked\n",
    "    \n",
    "ordinal feature (ordered categorical feature):\n",
    "\n",
    "    * Pclass"
   ]
  },
  {
   "cell_type": "markdown",
   "id": "31efb08a-6aec-49d6-819b-d1ab9eb0dea7",
   "metadata": {},
   "source": [
    "<a id=\"lab\"></a>\n",
    "#### 1) Label encoder\n",
    "\n",
    "map unique values to different numbers\n",
    "\n",
    "- very usefull for tree-based methods, as they can split features and extract more usefull values in categories on its own\n",
    "\n",
    "- non tree-based (linear, kNN, NN) can't use this feature very well\n",
    "\n",
    "<br>\n",
    "\n",
    "methods:\n",
    "\n",
    "sklearn.preprocessing.LabelEncoder --> alphabetical\n",
    "\n",
    "pandas.factorize --> respect order of appearance"
   ]
  },
  {
   "cell_type": "code",
   "execution_count": 161,
   "id": "61d3527e-cde5-434d-8354-c0113b6bafcb",
   "metadata": {},
   "outputs": [
    {
     "data": {
      "text/plain": [
       "0      S\n",
       "1      C\n",
       "2      S\n",
       "3      S\n",
       "4      S\n",
       "      ..\n",
       "886    S\n",
       "887    S\n",
       "888    S\n",
       "889    C\n",
       "890    Q\n",
       "Name: Embarked, Length: 891, dtype: object"
      ]
     },
     "execution_count": 161,
     "metadata": {},
     "output_type": "execute_result"
    }
   ],
   "source": [
    "emb = df.Embarked\n",
    "emb"
   ]
  },
  {
   "cell_type": "code",
   "execution_count": 162,
   "id": "f52eef44-a2a2-419f-8074-3636f64e538c",
   "metadata": {
    "collapsed": true,
    "jupyter": {
     "outputs_hidden": true
    },
    "tags": []
   },
   "outputs": [
    {
     "data": {
      "text/plain": [
       "array([2, 0, 2, 2, 2, 1, 2, 2, 2, 0, 2, 2, 2, 2, 2, 2, 1, 2, 2, 0, 2, 2,\n",
       "       1, 2, 2, 2, 0, 2, 1, 2, 0, 0, 1, 2, 0, 2, 0, 2, 2, 0, 2, 2, 0, 0,\n",
       "       1, 2, 1, 1, 0, 2, 2, 2, 0, 2, 0, 2, 2, 0, 2, 2, 0, 3, 2, 2, 0, 0,\n",
       "       2, 2, 2, 2, 2, 2, 2, 0, 2, 2, 2, 2, 2, 2, 2, 2, 1, 2, 2, 2, 2, 2,\n",
       "       2, 2, 2, 2, 2, 2, 2, 2, 0, 0, 2, 2, 2, 2, 2, 2, 2, 2, 2, 2, 2, 1,\n",
       "       2, 0, 2, 2, 0, 2, 1, 2, 0, 2, 2, 2, 0, 2, 2, 0, 1, 2, 0, 2, 0, 2,\n",
       "       2, 2, 2, 0, 2, 2, 2, 0, 0, 2, 2, 1, 2, 2, 2, 2, 2, 2, 2, 2, 2, 2,\n",
       "       2, 0, 1, 2, 2, 2, 2, 2, 2, 2, 2, 2, 2, 2, 2, 2, 2, 1, 2, 2, 0, 2,\n",
       "       2, 0, 2, 2, 2, 0, 2, 2, 2, 2, 1, 2, 1, 2, 2, 2, 2, 2, 0, 0, 1, 2,\n",
       "       1, 2, 2, 2, 2, 0, 2, 2, 2, 0, 1, 0, 2, 2, 2, 2, 1, 0, 2, 2, 0, 2,\n",
       "       2, 2, 2, 2, 2, 2, 2, 2, 2, 2, 2, 2, 2, 2, 2, 2, 2, 2, 2, 2, 0, 1,\n",
       "       2, 2, 0, 1, 2, 2, 2, 2, 2, 2, 2, 2, 2, 0, 0, 2, 0, 2, 1, 2, 2, 2,\n",
       "       1, 2, 2, 2, 2, 2, 2, 2, 2, 0, 1, 2, 2, 2, 1, 2, 1, 2, 2, 2, 2, 0,\n",
       "       2, 2, 2, 1, 2, 0, 0, 2, 2, 0, 0, 2, 2, 0, 1, 1, 2, 1, 2, 2, 0, 0,\n",
       "       0, 0, 0, 0, 2, 2, 2, 2, 2, 2, 2, 0, 2, 2, 1, 2, 2, 0, 2, 2, 2, 0,\n",
       "       1, 2, 2, 2, 2, 2, 2, 0, 2, 2, 2, 2, 2, 2, 2, 2, 2, 2, 2, 2, 2, 2,\n",
       "       0, 2, 0, 2, 2, 2, 1, 1, 2, 0, 0, 2, 1, 2, 0, 0, 1, 0, 0, 2, 2, 0,\n",
       "       2, 0, 2, 0, 0, 2, 0, 0, 2, 2, 2, 2, 2, 2, 1, 0, 2, 2, 2, 0, 2, 2,\n",
       "       2, 2, 2, 2, 2, 2, 2, 2, 2, 2, 2, 2, 2, 2, 2, 1, 1, 2, 2, 2, 2, 2,\n",
       "       2, 2, 0, 1, 2, 2, 2, 2, 2, 2, 1, 2, 2, 2, 2, 2, 2, 2, 2, 2, 2, 2,\n",
       "       2, 2, 2, 2, 2, 2, 2, 2, 0, 2, 2, 2, 0, 0, 2, 0, 2, 2, 2, 1, 2, 2,\n",
       "       2, 2, 2, 2, 2, 2, 1, 0, 2, 2, 2, 0, 2, 2, 2, 2, 2, 2, 2, 2, 2, 2,\n",
       "       0, 2, 2, 0, 2, 2, 2, 2, 2, 0, 2, 0, 0, 2, 2, 2, 2, 1, 1, 2, 2, 0,\n",
       "       2, 2, 2, 2, 1, 2, 2, 0, 2, 2, 2, 1, 2, 2, 2, 2, 0, 0, 0, 1, 2, 2,\n",
       "       2, 2, 2, 0, 0, 0, 2, 2, 2, 0, 2, 0, 2, 2, 2, 2, 0, 2, 2, 0, 2, 2,\n",
       "       0, 2, 1, 0, 2, 2, 0, 0, 2, 2, 1, 2, 2, 2, 2, 2, 2, 2, 0, 2, 2, 2,\n",
       "       2, 1, 2, 2, 2, 2, 0, 2, 2, 0, 2, 0, 0, 2, 2, 0, 2, 2, 2, 0, 2, 1,\n",
       "       2, 2, 2, 2, 0, 0, 2, 2, 2, 2, 0, 2, 2, 2, 0, 2, 2, 2, 1, 1, 2, 2,\n",
       "       2, 2, 2, 2, 0, 2, 0, 2, 2, 2, 1, 2, 2, 1, 2, 2, 0, 2, 2, 2, 2, 2,\n",
       "       2, 2, 2, 0, 2, 2, 0, 0, 2, 0, 2, 2, 2, 2, 2, 1, 1, 2, 2, 1, 2, 0,\n",
       "       2, 0, 2, 2, 2, 2, 2, 2, 2, 2, 2, 2, 2, 2, 2, 2, 2, 2, 2, 0, 1, 0,\n",
       "       2, 2, 2, 0, 2, 2, 2, 2, 2, 0, 2, 0, 2, 2, 2, 1, 0, 2, 0, 2, 0, 1,\n",
       "       2, 2, 2, 2, 2, 0, 0, 2, 2, 2, 2, 2, 0, 2, 1, 2, 2, 2, 2, 2, 2, 2,\n",
       "       2, 1, 2, 2, 2, 0, 2, 2, 2, 2, 2, 0, 2, 2, 2, 2, 0, 2, 2, 2, 2, 2,\n",
       "       2, 1, 2, 2, 2, 2, 2, 2, 2, 2, 2, 2, 2, 2, 0, 2, 2, 2, 0, 1, 1, 2,\n",
       "       2, 2, 2, 0, 2, 2, 1, 2, 1, 2, 0, 2, 2, 2, 2, 2, 2, 1, 2, 0, 1, 2,\n",
       "       2, 0, 2, 2, 2, 2, 0, 2, 2, 2, 2, 0, 2, 2, 2, 2, 2, 2, 2, 2, 2, 2,\n",
       "       2, 2, 2, 0, 2, 2, 2, 2, 2, 2, 2, 1, 2, 0, 1, 3, 0, 2, 0, 2, 2, 0,\n",
       "       2, 2, 2, 0, 2, 2, 0, 0, 2, 2, 2, 0, 2, 0, 2, 2, 0, 2, 2, 2, 2, 2,\n",
       "       0, 0, 2, 2, 2, 2, 2, 2, 0, 2, 2, 2, 2, 2, 2, 2, 0, 0, 2, 2, 2, 0,\n",
       "       2, 2, 2, 2, 2, 1, 2, 2, 2, 0, 1])"
      ]
     },
     "execution_count": 162,
     "metadata": {},
     "output_type": "execute_result"
    }
   ],
   "source": [
    "le = LabelEncoder()\n",
    "le.fit_transform(emb)"
   ]
  },
  {
   "cell_type": "code",
   "execution_count": 163,
   "id": "ef5054cc-9e5d-447d-bb07-3e7fc24487d8",
   "metadata": {
    "collapsed": true,
    "jupyter": {
     "outputs_hidden": true
    },
    "tags": []
   },
   "outputs": [
    {
     "data": {
      "text/plain": [
       "(array([ 0,  1,  0,  0,  0,  2,  0,  0,  0,  1,  0,  0,  0,  0,  0,  0,  2,\n",
       "         0,  0,  1,  0,  0,  2,  0,  0,  0,  1,  0,  2,  0,  1,  1,  2,  0,\n",
       "         1,  0,  1,  0,  0,  1,  0,  0,  1,  1,  2,  0,  2,  2,  1,  0,  0,\n",
       "         0,  1,  0,  1,  0,  0,  1,  0,  0,  1, -1,  0,  0,  1,  1,  0,  0,\n",
       "         0,  0,  0,  0,  0,  1,  0,  0,  0,  0,  0,  0,  0,  0,  2,  0,  0,\n",
       "         0,  0,  0,  0,  0,  0,  0,  0,  0,  0,  0,  1,  1,  0,  0,  0,  0,\n",
       "         0,  0,  0,  0,  0,  0,  0,  2,  0,  1,  0,  0,  1,  0,  2,  0,  1,\n",
       "         0,  0,  0,  1,  0,  0,  1,  2,  0,  1,  0,  1,  0,  0,  0,  0,  1,\n",
       "         0,  0,  0,  1,  1,  0,  0,  2,  0,  0,  0,  0,  0,  0,  0,  0,  0,\n",
       "         0,  0,  1,  2,  0,  0,  0,  0,  0,  0,  0,  0,  0,  0,  0,  0,  0,\n",
       "         0,  2,  0,  0,  1,  0,  0,  1,  0,  0,  0,  1,  0,  0,  0,  0,  2,\n",
       "         0,  2,  0,  0,  0,  0,  0,  1,  1,  2,  0,  2,  0,  0,  0,  0,  1,\n",
       "         0,  0,  0,  1,  2,  1,  0,  0,  0,  0,  2,  1,  0,  0,  1,  0,  0,\n",
       "         0,  0,  0,  0,  0,  0,  0,  0,  0,  0,  0,  0,  0,  0,  0,  0,  0,\n",
       "         0,  0,  1,  2,  0,  0,  1,  2,  0,  0,  0,  0,  0,  0,  0,  0,  0,\n",
       "         1,  1,  0,  1,  0,  2,  0,  0,  0,  2,  0,  0,  0,  0,  0,  0,  0,\n",
       "         0,  1,  2,  0,  0,  0,  2,  0,  2,  0,  0,  0,  0,  1,  0,  0,  0,\n",
       "         2,  0,  1,  1,  0,  0,  1,  1,  0,  0,  1,  2,  2,  0,  2,  0,  0,\n",
       "         1,  1,  1,  1,  1,  1,  0,  0,  0,  0,  0,  0,  0,  1,  0,  0,  2,\n",
       "         0,  0,  1,  0,  0,  0,  1,  2,  0,  0,  0,  0,  0,  0,  1,  0,  0,\n",
       "         0,  0,  0,  0,  0,  0,  0,  0,  0,  0,  0,  0,  1,  0,  1,  0,  0,\n",
       "         0,  2,  2,  0,  1,  1,  0,  2,  0,  1,  1,  2,  1,  1,  0,  0,  1,\n",
       "         0,  1,  0,  1,  1,  0,  1,  1,  0,  0,  0,  0,  0,  0,  2,  1,  0,\n",
       "         0,  0,  1,  0,  0,  0,  0,  0,  0,  0,  0,  0,  0,  0,  0,  0,  0,\n",
       "         0,  0,  0,  2,  2,  0,  0,  0,  0,  0,  0,  0,  1,  2,  0,  0,  0,\n",
       "         0,  0,  0,  2,  0,  0,  0,  0,  0,  0,  0,  0,  0,  0,  0,  0,  0,\n",
       "         0,  0,  0,  0,  0,  0,  1,  0,  0,  0,  1,  1,  0,  1,  0,  0,  0,\n",
       "         2,  0,  0,  0,  0,  0,  0,  0,  0,  2,  1,  0,  0,  0,  1,  0,  0,\n",
       "         0,  0,  0,  0,  0,  0,  0,  0,  1,  0,  0,  1,  0,  0,  0,  0,  0,\n",
       "         1,  0,  1,  1,  0,  0,  0,  0,  2,  2,  0,  0,  1,  0,  0,  0,  0,\n",
       "         2,  0,  0,  1,  0,  0,  0,  2,  0,  0,  0,  0,  1,  1,  1,  2,  0,\n",
       "         0,  0,  0,  0,  1,  1,  1,  0,  0,  0,  1,  0,  1,  0,  0,  0,  0,\n",
       "         1,  0,  0,  1,  0,  0,  1,  0,  2,  1,  0,  0,  1,  1,  0,  0,  2,\n",
       "         0,  0,  0,  0,  0,  0,  0,  1,  0,  0,  0,  0,  2,  0,  0,  0,  0,\n",
       "         1,  0,  0,  1,  0,  1,  1,  0,  0,  1,  0,  0,  0,  1,  0,  2,  0,\n",
       "         0,  0,  0,  1,  1,  0,  0,  0,  0,  1,  0,  0,  0,  1,  0,  0,  0,\n",
       "         2,  2,  0,  0,  0,  0,  0,  0,  1,  0,  1,  0,  0,  0,  2,  0,  0,\n",
       "         2,  0,  0,  1,  0,  0,  0,  0,  0,  0,  0,  0,  1,  0,  0,  1,  1,\n",
       "         0,  1,  0,  0,  0,  0,  0,  2,  2,  0,  0,  2,  0,  1,  0,  1,  0,\n",
       "         0,  0,  0,  0,  0,  0,  0,  0,  0,  0,  0,  0,  0,  0,  0,  0,  1,\n",
       "         2,  1,  0,  0,  0,  1,  0,  0,  0,  0,  0,  1,  0,  1,  0,  0,  0,\n",
       "         2,  1,  0,  1,  0,  1,  2,  0,  0,  0,  0,  0,  1,  1,  0,  0,  0,\n",
       "         0,  0,  1,  0,  2,  0,  0,  0,  0,  0,  0,  0,  0,  2,  0,  0,  0,\n",
       "         1,  0,  0,  0,  0,  0,  1,  0,  0,  0,  0,  1,  0,  0,  0,  0,  0,\n",
       "         0,  2,  0,  0,  0,  0,  0,  0,  0,  0,  0,  0,  0,  0,  1,  0,  0,\n",
       "         0,  1,  2,  2,  0,  0,  0,  0,  1,  0,  0,  2,  0,  2,  0,  1,  0,\n",
       "         0,  0,  0,  0,  0,  2,  0,  1,  2,  0,  0,  1,  0,  0,  0,  0,  1,\n",
       "         0,  0,  0,  0,  1,  0,  0,  0,  0,  0,  0,  0,  0,  0,  0,  0,  0,\n",
       "         0,  1,  0,  0,  0,  0,  0,  0,  0,  2,  0,  1,  2, -1,  1,  0,  1,\n",
       "         0,  0,  1,  0,  0,  0,  1,  0,  0,  1,  1,  0,  0,  0,  1,  0,  1,\n",
       "         0,  0,  1,  0,  0,  0,  0,  0,  1,  1,  0,  0,  0,  0,  0,  0,  1,\n",
       "         0,  0,  0,  0,  0,  0,  0,  1,  1,  0,  0,  0,  1,  0,  0,  0,  0,\n",
       "         0,  2,  0,  0,  0,  1,  2]),\n",
       " Index(['S', 'C', 'Q'], dtype='object'))"
      ]
     },
     "execution_count": 163,
     "metadata": {},
     "output_type": "execute_result"
    }
   ],
   "source": [
    "pd.factorize(emb)"
   ]
  },
  {
   "cell_type": "markdown",
   "id": "eaf086f5-b41f-4064-9b8e-fdf2a2878f87",
   "metadata": {},
   "source": [
    "<a id=\"freq\"></a>\n",
    "\n",
    "#### 2) Frequency encoder\n",
    "\n",
    "map unique values to their frequencies different numbers\n",
    "\n",
    "can help both tree and non-tree models, but it is specially useful for non-tree-based models: for example, if frequency of category is correlated with target value, linear models will take advantage from this dependency.\n",
    "\n",
    "For tree-based, it can help with less number of splits.\n",
    "\n",
    "DRAWBACK: more than one feature with same frequency --> indistinguishable features\n",
    "\n",
    "for this, _scipy.stats.rankdata_ to the rescue."
   ]
  },
  {
   "cell_type": "code",
   "execution_count": 170,
   "id": "08a664a2-2691-4197-963f-5767461cd0b5",
   "metadata": {},
   "outputs": [
    {
     "data": {
      "text/plain": [
       "Embarked\n",
       "C    168\n",
       "Q     77\n",
       "S    644\n",
       "dtype: int64"
      ]
     },
     "execution_count": 170,
     "metadata": {},
     "output_type": "execute_result"
    }
   ],
   "source": [
    "# count occurence oh each category\n",
    "\n",
    "enc = df.groupby('Embarked').size()\n",
    "enc"
   ]
  },
  {
   "cell_type": "code",
   "execution_count": 176,
   "id": "3aad6875-a6d0-4e6d-8e89-1ce633cc87eb",
   "metadata": {},
   "outputs": [
    {
     "data": {
      "text/plain": [
       "Embarked\n",
       "C    0.188552\n",
       "Q    0.086420\n",
       "S    0.722783\n",
       "dtype: float64"
      ]
     },
     "execution_count": 176,
     "metadata": {},
     "output_type": "execute_result"
    }
   ],
   "source": [
    "# get percentage of each category\n",
    "\n",
    "encoding = enc / len(df)\n",
    "encoding"
   ]
  },
  {
   "cell_type": "code",
   "execution_count": 177,
   "id": "4a760c4e-07b0-44b9-b911-96e5021cd988",
   "metadata": {},
   "outputs": [
    {
     "data": {
      "text/plain": [
       "0      0.722783\n",
       "1      0.188552\n",
       "2      0.722783\n",
       "3      0.722783\n",
       "4      0.722783\n",
       "         ...   \n",
       "886    0.722783\n",
       "887    0.722783\n",
       "888    0.722783\n",
       "889    0.188552\n",
       "890    0.086420\n",
       "Name: Embarked, Length: 891, dtype: float64"
      ]
     },
     "execution_count": 177,
     "metadata": {},
     "output_type": "execute_result"
    }
   ],
   "source": [
    "# map each category to its frequency\n",
    "\n",
    "df.Embarked.map(encoding)"
   ]
  },
  {
   "cell_type": "markdown",
   "id": "73ea7590-d2c2-44f1-a3da-2f2c0b3cdcd3",
   "metadata": {},
   "source": [
    "<a id=\"ohe\"></a>\n",
    "\n",
    "#### 3) One-hot encoder\n",
    "\n",
    "Generates a new binary column for each unique category.\n",
    "\n",
    "<br>\n",
    "\n",
    "methods:\n",
    "\n",
    "sklearn.preprocessing.OneHotEncoder\n",
    "\n",
    "pandas.get_dummies"
   ]
  },
  {
   "cell_type": "code",
   "execution_count": 198,
   "id": "8abdd444-8e82-405a-b224-902dc5585a23",
   "metadata": {},
   "outputs": [
    {
     "data": {
      "text/plain": [
       "0      3\n",
       "1      1\n",
       "2      3\n",
       "3      1\n",
       "4      3\n",
       "      ..\n",
       "886    2\n",
       "887    1\n",
       "888    3\n",
       "889    1\n",
       "890    3\n",
       "Name: Pclass, Length: 891, dtype: int64"
      ]
     },
     "execution_count": 198,
     "metadata": {},
     "output_type": "execute_result"
    }
   ],
   "source": [
    "clas = df['Pclass']\n",
    "clas"
   ]
  },
  {
   "cell_type": "code",
   "execution_count": 199,
   "id": "614bc339-cef8-4ec4-8ce2-573f390d6c86",
   "metadata": {},
   "outputs": [
    {
     "data": {
      "text/html": [
       "<div>\n",
       "<style scoped>\n",
       "    .dataframe tbody tr th:only-of-type {\n",
       "        vertical-align: middle;\n",
       "    }\n",
       "\n",
       "    .dataframe tbody tr th {\n",
       "        vertical-align: top;\n",
       "    }\n",
       "\n",
       "    .dataframe thead th {\n",
       "        text-align: right;\n",
       "    }\n",
       "</style>\n",
       "<table border=\"1\" class=\"dataframe\">\n",
       "  <thead>\n",
       "    <tr style=\"text-align: right;\">\n",
       "      <th></th>\n",
       "      <th>1</th>\n",
       "      <th>2</th>\n",
       "      <th>3</th>\n",
       "    </tr>\n",
       "  </thead>\n",
       "  <tbody>\n",
       "    <tr>\n",
       "      <th>0</th>\n",
       "      <td>0</td>\n",
       "      <td>0</td>\n",
       "      <td>1</td>\n",
       "    </tr>\n",
       "    <tr>\n",
       "      <th>1</th>\n",
       "      <td>1</td>\n",
       "      <td>0</td>\n",
       "      <td>0</td>\n",
       "    </tr>\n",
       "    <tr>\n",
       "      <th>2</th>\n",
       "      <td>0</td>\n",
       "      <td>0</td>\n",
       "      <td>1</td>\n",
       "    </tr>\n",
       "    <tr>\n",
       "      <th>3</th>\n",
       "      <td>1</td>\n",
       "      <td>0</td>\n",
       "      <td>0</td>\n",
       "    </tr>\n",
       "    <tr>\n",
       "      <th>4</th>\n",
       "      <td>0</td>\n",
       "      <td>0</td>\n",
       "      <td>1</td>\n",
       "    </tr>\n",
       "    <tr>\n",
       "      <th>...</th>\n",
       "      <td>...</td>\n",
       "      <td>...</td>\n",
       "      <td>...</td>\n",
       "    </tr>\n",
       "    <tr>\n",
       "      <th>886</th>\n",
       "      <td>0</td>\n",
       "      <td>1</td>\n",
       "      <td>0</td>\n",
       "    </tr>\n",
       "    <tr>\n",
       "      <th>887</th>\n",
       "      <td>1</td>\n",
       "      <td>0</td>\n",
       "      <td>0</td>\n",
       "    </tr>\n",
       "    <tr>\n",
       "      <th>888</th>\n",
       "      <td>0</td>\n",
       "      <td>0</td>\n",
       "      <td>1</td>\n",
       "    </tr>\n",
       "    <tr>\n",
       "      <th>889</th>\n",
       "      <td>1</td>\n",
       "      <td>0</td>\n",
       "      <td>0</td>\n",
       "    </tr>\n",
       "    <tr>\n",
       "      <th>890</th>\n",
       "      <td>0</td>\n",
       "      <td>0</td>\n",
       "      <td>1</td>\n",
       "    </tr>\n",
       "  </tbody>\n",
       "</table>\n",
       "<p>891 rows × 3 columns</p>\n",
       "</div>"
      ],
      "text/plain": [
       "     1  2  3\n",
       "0    0  0  1\n",
       "1    1  0  0\n",
       "2    0  0  1\n",
       "3    1  0  0\n",
       "4    0  0  1\n",
       "..  .. .. ..\n",
       "886  0  1  0\n",
       "887  1  0  0\n",
       "888  0  0  1\n",
       "889  1  0  0\n",
       "890  0  0  1\n",
       "\n",
       "[891 rows x 3 columns]"
      ]
     },
     "execution_count": 199,
     "metadata": {},
     "output_type": "execute_result"
    }
   ],
   "source": [
    "pd.get_dummies(clas)"
   ]
  },
  {
   "cell_type": "code",
   "execution_count": 211,
   "id": "99fc57f3-9acb-48d4-a2f9-be0ef3ab8cb0",
   "metadata": {},
   "outputs": [
    {
     "data": {
      "text/plain": [
       "array([[0., 0., 1.],\n",
       "       [1., 0., 0.],\n",
       "       [0., 0., 1.],\n",
       "       ...,\n",
       "       [0., 0., 1.],\n",
       "       [1., 0., 0.],\n",
       "       [0., 0., 1.]])"
      ]
     },
     "execution_count": 211,
     "metadata": {},
     "output_type": "execute_result"
    }
   ],
   "source": [
    "ohe = OneHotEncoder()\n",
    "ohe.fit_transform(df[['Pclass']]).toarray()"
   ]
  },
  {
   "cell_type": "markdown",
   "id": "b7295558-19b0-4913-9732-e92e22c1a5e3",
   "metadata": {},
   "source": [
    "<a id=\"featgen2\"></a>\n",
    "\n",
    "#### 4) Feature generation\n",
    "\n",
    "\n",
    "One of the most usefull (at least for non-tree-based models) feature generation --> feature interaction between categorical features\n",
    "\n",
    "Titanic Example: \n",
    "\n",
    "    - suppose target feature depends on PClass and sex feature\n",
    "    - so, model could adjust predictions to the combination of them\n",
    "    - strategy: CONCATENATE the features and then ONE HOT ENCODE"
   ]
  },
  {
   "cell_type": "markdown",
   "id": "28dfa149-f67b-4804-b3cb-93c04b97b7bc",
   "metadata": {},
   "source": [
    "<a id=\"sumup2\"></a>\n",
    "\n",
    "#### Conclusions\n",
    "    \n",
    "    1) ordinal features are sorted in a meaningful order\n",
    "    \n",
    "    2) label encoder maps categories to numbers\n",
    "    \n",
    "    3) frequency encoder maps categories to its frequencies\n",
    "    \n",
    "    4) label and frequency enconder are often used for tree-based models\n",
    "    \n",
    "    5) one hot encoding is often used for non-tree-based models\n",
    "    \n",
    "    6) interaction of categorical features can help non-tree-based models"
   ]
  },
  {
   "cell_type": "markdown",
   "id": "c64842fc-6988-41c4-8c72-fe8946332ecb",
   "metadata": {},
   "source": [
    "<a id=\"dt\"></a>\n",
    "### - datetime features"
   ]
  },
  {
   "cell_type": "markdown",
   "id": "14bb8133-ea79-4393-b2df-39ab7a502b92",
   "metadata": {},
   "source": [
    "usual feature generation strategies:\n",
    "\n",
    "1) to capture repetitive patterns:\n",
    "    * day number in week, month, year, second, minute, hour\n",
    "    \n",
    "    <br>\n",
    "    \n",
    "2) to capture time passed from an event (time since):\n",
    "    * number of days passed from a holiday\n",
    "    * number of days remaining for next holliday"
   ]
  },
  {
   "cell_type": "markdown",
   "id": "cdd14e7d-5900-4524-8853-d22a2b2a7558",
   "metadata": {},
   "source": [
    "<a id=\"coord\"></a>\n",
    "### - coordinates features"
   ]
  },
  {
   "cell_type": "markdown",
   "id": "f87521d2-6c1d-42c2-a525-d42ef017e76b",
   "metadata": {},
   "source": [
    "usual feature generation strategies:\n",
    "\n",
    "1) calculate distances to interesting places in the map (subway station, schools, hospital, infrastuctural buildings, tourist spot).\n",
    "\n",
    "2) aggregated statistics for surrounding area (number of schools)\n",
    "\n",
    "\n",
    "3) apply some rotation to the coordinates, in order to make easy for the model to converge"
   ]
  },
  {
   "cell_type": "markdown",
   "id": "3c596987-3aac-48e8-a743-10d5d50ace87",
   "metadata": {},
   "source": [
    "<a id=\"miss\"></a>\n",
    "\n",
    "### - missing value"
   ]
  }
 ],
 "metadata": {
  "kernelspec": {
   "display_name": "Python 3",
   "language": "python",
   "name": "python3"
  },
  "language_info": {
   "codemirror_mode": {
    "name": "ipython",
    "version": 3
   },
   "file_extension": ".py",
   "mimetype": "text/x-python",
   "name": "python",
   "nbconvert_exporter": "python",
   "pygments_lexer": "ipython3",
   "version": "3.8.9"
  }
 },
 "nbformat": 4,
 "nbformat_minor": 5
}
